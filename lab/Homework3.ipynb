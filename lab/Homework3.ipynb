{
 "cells": [
  {
   "cell_type": "markdown",
   "metadata": {},
   "source": [
    "# ADA 2018 - Homework 3\n",
    "\n",
    "\n",
    "\n",
    "## Undestanding the StackOverflow community\n",
    "\n",
    "\n",
    "Deadline: Nov 7th 2018, 23:59:59\n",
    "\n",
    "Submission link: Check channel homework-3-public"
   ]
  },
  {
   "cell_type": "markdown",
   "metadata": {},
   "source": [
    "StackOverflow is the most popular programming-related Q&A website. It serves as a platform for users to ask and answer questions and to vote questions and answers up or down. Users of StackOverflow can earn reputation points and \"badges\"; for example, a person is awarded 10 reputation points for receiving an \"up\" vote on an answer given to a question, and 5 points for the \"up\" vote on a question asked. Also, users receive badges for their valued contributions, which represents a kind of gamification of the traditional Q&A site. \n",
    "\n",
    "[Learn more about StackOverflow on Wikipedia](https://en.wikipedia.org/wiki/Stack_Overflow)\n",
    "\n",
    "----\n",
    "\n",
    "Dataset link:\n",
    "\n",
    "https://drive.google.com/open?id=1POlGjqzw9v_pZ_bUnXGihOgk45kbvNjB\n",
    "\n",
    "http://iccluster053.iccluster.epfl.ch/Posts.json.zip (mirror 1)\n",
    "\n",
    "https://iloveadatas.com/datasets/Posts.json.zip (mirror 2)\n",
    "\n",
    "Dataset description:\n",
    "\n",
    "* **Id**: Id of the post\n",
    "* **CreationDate**: Creation date of the post (String format)\n",
    "* **PostTypeId**: Type of post (Question = 1, Answer = 2)\n",
    "* **ParentId**: The id of the question. Only present if PostTypeId = 2\n",
    "* **Score**: Points assigned by the users\n",
    "* **Tags**: Tags of the question. Only present if PostTypeId = 1\n",
    "* **Title**: Only present if PostTypeId = 1\n",
    "* **ViewCount**: Only present if PostTypeId = 1\n",
    "\n",
    "The dataset format is JSON. Here are examples of a question and an answer:\n",
    "\n",
    "Question:\n",
    "```json\n",
    "{\n",
    "    \"Id\": 10130734,\n",
    "    \"CreationDate\": \"2012-04-12T19:51:25.793+02:00\",\n",
    "    \"PostTypeId\": 1,\n",
    "    \"Score\": 4,\n",
    "    \"Tags\": \"<python><pandas>\",\n",
    "    \"Title\": \"Best way to insert a new value\",\n",
    "    \"ViewCount\": 3803\n",
    "}\n",
    "```\n",
    "\n",
    "Answer:\n",
    "```json\n",
    "{  \n",
    "   \"CreationDate\":\"2010-10-26T03:19:05.063+02:00\",\n",
    "   \"Id\":4020440,\n",
    "   \"ParentId\":4020214,\n",
    "   \"PostTypeId\":2,\n",
    "   \"Score\":1\n",
    "}\n",
    "```\n",
    "\n",
    "----\n",
    "Useful resources:\n",
    "\n",
    "**Spark SQL, DataFrames and Datasets Guide**\n",
    "\n",
    "https://spark.apache.org/docs/latest/sql-programming-guide.html\n",
    "\n",
    "**Database schema documentation for the public data dump**\n",
    "\n",
    "https://meta.stackexchange.com/questions/2677/database-schema-documentation-for-the-public-data-dump-and-sede\n",
    "\n",
    "----\n",
    "\n",
    "**Note:** Use Spark where possible. Some computations can take more than 10 minutes on a common notebook. Consider to save partial results on disk."
   ]
  },
  {
   "cell_type": "code",
   "execution_count": 1,
   "metadata": {},
   "outputs": [],
   "source": [
    "import re\n",
    "import pandas as pd\n",
    "import numpy as np\n",
    "import matplotlib\n",
    "import matplotlib.pyplot as plt\n",
    "%matplotlib inline\n",
    "\n",
    "import findspark\n",
    "findspark.init('D:\\SPARK\\spark-2.3.2-bin-hadoop2.7')\n",
    "\n",
    "from pyspark.sql import *\n",
    "from pyspark.sql.functions import *\n",
    "from pyspark.sql.functions import min\n",
    "\n",
    "from pyspark.sql import SparkSession\n",
    "from pyspark import SparkContext\n",
    "\n",
    "spark = SparkSession.builder.getOrCreate()\n",
    "sc = spark.sparkContext"
   ]
  },
  {
   "cell_type": "markdown",
   "metadata": {},
   "source": [
    "### Task A: Convert the dataset to a more convenient format\n",
    "As a warm-up task (and to avoid to warm up your laptop too much), load the dataset into a Spark dataframe, show the content, and save it in the _Parquet_ format. Use this step to convert the fields to a more convenient form.\n",
    "\n",
    "Answer the following questions:\n",
    "\n",
    "1. How many questions have been asked on StackOverflow?\n",
    "2. How many answers have been given?\n",
    "3. What is the percentage of questions with a score of 0?\n",
    "\n",
    "**Hint:** The next tasks involve a time difference. Consider storing time in numeric format."
   ]
  },
  {
   "cell_type": "markdown",
   "metadata": {},
   "source": [
    "load the json to data according to the function"
   ]
  },
  {
   "cell_type": "code",
   "execution_count": null,
   "metadata": {},
   "outputs": [],
   "source": [
    "data = spark.read.json('Data/Posts.json')\n",
    "data.take(5)"
   ]
  },
  {
   "cell_type": "markdown",
   "metadata": {},
   "source": [
    "We can see that both questions and answers have their own unique values. For questions, they have meaningful ViewCount values and for answers, they have meaningful ParentId values. We split the data to question and answer according to the criteria."
   ]
  },
  {
   "cell_type": "code",
   "execution_count": 3,
   "metadata": {},
   "outputs": [
    {
     "name": "stdout",
     "output_type": "stream",
     "text": [
      "+-------+--------------------+----------+-----+--------------------+--------------------+---------+\n",
      "|     id|        CreationDate|PostTypeId|Score|                Tags|               Title|ViewCount|\n",
      "+-------+--------------------+----------+-----+--------------------+--------------------+---------+\n",
      "|4020437|2010-10-26T03:17:...|         1|    0|<asp.net-mvc><jqu...|display jquery di...|      510|\n",
      "|4020438|2010-10-26T03:18:...|         1|    0|<javascript><html...|Why can only my m...|       62|\n",
      "|4020445|2010-10-26T03:21:...|         1|    0|<c++><visual-stud...|Communicating ove...|     1170|\n",
      "|4020449|2010-10-26T03:21:...|         1|    0|<c#><textbox><fil...|C# Text Box File ...|      845|\n",
      "|4020450|2010-10-26T03:21:...|         1|    0|<php><wordpress><...|PHP image grab wh...|      761|\n",
      "|4020453|2010-10-26T03:22:...|         1|    4|<objective-c><del...|Objective C - Str...|     1091|\n",
      "|4020456|2010-10-26T03:23:...|         1|    2|       <c><pointers>|Changing pointer ...|     4143|\n",
      "|4020457|2010-10-26T03:23:...|         1|    1|<flash><actionscr...|AS2 Center loadMo...|     1449|\n",
      "|4020460|2010-10-26T03:23:...|         1|    3|<c#><asp.net><ima...|HTML email \"opens...|      544|\n",
      "|4020472|2010-10-26T03:28:...|         1|    0|<javascript><date...|    Date formatting?|      332|\n",
      "|4020475|2010-10-26T03:28:...|         1|    0|    <zend-framework>|Problem with pass...|      921|\n",
      "|4020476|2010-10-26T03:29:...|         1|    5|           <android>|How do I most eas...|     3698|\n",
      "|4020478|2010-10-26T03:29:...|         1|   14|<java><xml><regex...|Disable all check...|    15859|\n",
      "|4020480|2010-10-26T03:29:...|         1|   -1|              <java>|Java Beginner: Sc...|     6537|\n",
      "|4020490|2010-10-26T03:32:...|         1|    0|         <html><css>|HTML layout issue...|       85|\n",
      "|4020503|2010-10-26T03:36:...|         1|    1|<android><textvie...|How to change the...|     2277|\n",
      "|4020504|2010-10-26T03:36:...|         1|    5| <jquery><uploadify>|How does Uploadif...|     1307|\n",
      "|4020509|2010-10-26T03:37:...|         1|    0|<php><javascript>...|Prefix of my doma...|       79|\n",
      "|4020513|2010-10-26T03:38:...|         1|    1|<c#><linq><unit-t...| Rhino Mock OfType<>|      268|\n",
      "|4020515|2010-10-26T03:38:...|         1|    1|           <android>|can't use Http Po...|     1372|\n",
      "+-------+--------------------+----------+-----+--------------------+--------------------+---------+\n",
      "only showing top 20 rows\n",
      "\n"
     ]
    }
   ],
   "source": [
    "question=data.filter('ViewCount>=0') \\\n",
    "                    .select('id','CreationDate','PostTypeId', 'Score','Tags', 'Title','ViewCount')\n",
    "question.show()"
   ]
  },
  {
   "cell_type": "code",
   "execution_count": 4,
   "metadata": {},
   "outputs": [
    {
     "name": "stdout",
     "output_type": "stream",
     "text": [
      "+-------+--------------------+--------+----------+-----+\n",
      "|     id|        CreationDate|ParentId|PostTypeId|Score|\n",
      "+-------+--------------------+--------+----------+-----+\n",
      "|4020440|2010-10-26T03:19:...| 4020214|         2|    1|\n",
      "|4020441|2010-10-26T03:19:...| 3938154|         2|    0|\n",
      "|4020443|2010-10-26T03:20:...| 4020419|         2|  324|\n",
      "|4020444|2010-10-26T03:20:...| 4020433|         2|    0|\n",
      "|4020447|2010-10-26T03:21:...| 4020433|         2|    1|\n",
      "|4020448|2010-10-26T03:21:...| 4020437|         2|    1|\n",
      "|4020451|2010-10-26T03:21:...| 4020382|         2|    2|\n",
      "|4020452|2010-10-26T03:22:...| 4020433|         2|    7|\n",
      "|4020454|2010-10-26T03:22:...| 4020433|         2|    2|\n",
      "|4020455|2010-10-26T03:22:...| 1175258|         2|    5|\n",
      "|4020458|2010-10-26T03:23:...| 4010166|         2|    1|\n",
      "|4020461|2010-10-26T03:23:...| 4006559|         2|    0|\n",
      "|4020462|2010-10-26T03:24:...| 4018842|         2|    2|\n",
      "|4020463|2010-10-26T03:25:...| 4020374|         2|    7|\n",
      "|4020466|2010-10-26T03:27:...| 4020245|         2|    3|\n",
      "|4020467|2010-10-26T03:27:...| 4019765|         2|    1|\n",
      "|4020468|2010-10-26T03:27:...| 3964306|         2|    0|\n",
      "|4020470|2010-10-26T03:28:...| 4020409|         2|    2|\n",
      "|4020471|2010-10-26T03:28:...| 4020460|         2|    3|\n",
      "|4020474|2010-10-26T03:28:...| 4020456|         2|    1|\n",
      "+-------+--------------------+--------+----------+-----+\n",
      "only showing top 20 rows\n",
      "\n"
     ]
    }
   ],
   "source": [
    "answer=data.filter('ParentId>=0') \\\n",
    "                    .select('id','CreationDate','ParentId','PostTypeId', 'Score')\n",
    "answer.show()"
   ]
  },
  {
   "cell_type": "markdown",
   "metadata": {},
   "source": [
    "1. How many questions have been asked on StackOverflow?"
   ]
  },
  {
   "cell_type": "code",
   "execution_count": 5,
   "metadata": {},
   "outputs": [
    {
     "name": "stdout",
     "output_type": "stream",
     "text": [
      "15647060 questions have been asked on StackOverflow\n"
     ]
    }
   ],
   "source": [
    "num_question=question.count()\n",
    "print(str(num_question)+ ' questions have been asked on StackOverflow')"
   ]
  },
  {
   "cell_type": "markdown",
   "metadata": {},
   "source": [
    "2. How many answers have been given?"
   ]
  },
  {
   "cell_type": "code",
   "execution_count": 6,
   "metadata": {},
   "outputs": [
    {
     "name": "stdout",
     "output_type": "stream",
     "text": [
      "25192772 answers have been given\n"
     ]
    }
   ],
   "source": [
    "num_answer=answer.count()\n",
    "print(str(num_answer)+' answers have been given')"
   ]
  },
  {
   "cell_type": "markdown",
   "metadata": {},
   "source": [
    "3. What is the percentage of questions with a score of 0?"
   ]
  },
  {
   "cell_type": "code",
   "execution_count": 7,
   "metadata": {},
   "outputs": [
    {
     "name": "stdout",
     "output_type": "stream",
     "text": [
      "46.54365740273253% of questions have scores of 0\n"
     ]
    }
   ],
   "source": [
    "question_score_0=question[question['score']==0]\n",
    "num_question_score_0 = question_score_0.count()\n",
    "temp_per= 100 * num_question_score_0 / num_question\n",
    "print (str(temp_per)+'% of questions have scores of 0')"
   ]
  },
  {
   "cell_type": "markdown",
   "metadata": {},
   "source": [
    "**Hint:** Load the dataset from the Parquet file for the next tasks."
   ]
  },
  {
   "cell_type": "markdown",
   "metadata": {},
   "source": [
    "### Task B: What are the 10 most popular tags?\n",
    "\n",
    "What are the most popular tags in StackOverflow? Use Spark to extract the information you need, and answer the following questions with Pandas and Matplotlib (or Seaborn):\n",
    "\n",
    "1. What is the proportion of tags that appear in fewer than 100 questions?\n",
    "2. Plot the distribution of the tag counts using an appropriate representation.\n",
    "3. Plot a bar chart with the number of questions for the 10 most popular tags.\n",
    "\n",
    "For each task describe your findings briefly."
   ]
  },
  {
   "cell_type": "code",
   "execution_count": null,
   "metadata": {},
   "outputs": [],
   "source": []
  },
  {
   "cell_type": "markdown",
   "metadata": {},
   "source": [
    "Since we cannot directly turn the spark dataframe to pandas dataframe due to its extemely large amount, we first try to merge 'Tags' value and counts of each unique value. This step can reduce the space to some degree. In this step, we do not split the 'Tags' values into several tags."
   ]
  },
  {
   "cell_type": "code",
   "execution_count": 4,
   "metadata": {},
   "outputs": [
    {
     "name": "stdout",
     "output_type": "stream",
     "text": [
      "+--------------------+------+\n",
      "|                Tags| count|\n",
      "+--------------------+------+\n",
      "|           <android>|100395|\n",
      "|        <javascript>| 76988|\n",
      "|<javascript><jquery>| 76753|\n",
      "|               <php>| 70538|\n",
      "|              <java>| 69644|\n",
      "|            <python>| 61394|\n",
      "|         <html><css>| 59491|\n",
      "|            <jquery>| 54102|\n",
      "|                <c#>| 49569|\n",
      "|             <mysql>| 47423|\n",
      "|        <php><mysql>| 45929|\n",
      "|               <c++>| 41030|\n",
      "|                 <r>| 37287|\n",
      "|     <java><android>| 31556|\n",
      "|<javascript><jque...| 29602|\n",
      "|        <mysql><sql>| 27425|\n",
      "|                 <c>| 25175|\n",
      "|<javascript><jque...| 24921|\n",
      "|         <angularjs>| 24814|\n",
      "|  <javascript><html>| 24390|\n",
      "+--------------------+------+\n",
      "only showing top 20 rows\n",
      "\n"
     ]
    }
   ],
   "source": [
    "temp_count=question.groupBy(\"Tags\")\\\n",
    "                                    .agg(count(\"*\").alias(\"count\"))\\\n",
    "                                    .sort(desc(\"count\"))\n",
    "temp_count.show()"
   ]
  },
  {
   "cell_type": "markdown",
   "metadata": {},
   "source": [
    "We turn the merged dataframe to rdd to implement the '>' split function to split the each 'Tags' value to several single tags (from one string to arrays containing several tag strings). Since we use '>' to split the strings, each tags inside has a form like '<java'. Later, we can use explode function to sepearate each array."
   ]
  },
  {
   "cell_type": "code",
   "execution_count": 5,
   "metadata": {},
   "outputs": [
    {
     "data": {
      "text/plain": [
       "[Row(Tags=['<android'], count=100395),\n",
       " Row(Tags=['<javascript'], count=76988),\n",
       " Row(Tags=['<javascript', '<jquery'], count=76753),\n",
       " Row(Tags=['<php'], count=70538),\n",
       " Row(Tags=['<java'], count=69644)]"
      ]
     },
     "execution_count": 5,
     "metadata": {},
     "output_type": "execute_result"
    }
   ],
   "source": [
    "temp_rdd = temp_count.rdd.map(lambda r: Row(Tags=r[0].split('>')[:-1], count=r[1]))\n",
    "temp_rdd.take(5)"
   ]
  },
  {
   "cell_type": "markdown",
   "metadata": {},
   "source": [
    "We use the explode function to seperate a 'Tags' value of each row to several single tag values with corresponding several rows."
   ]
  },
  {
   "cell_type": "code",
   "execution_count": 6,
   "metadata": {},
   "outputs": [
    {
     "name": "stdout",
     "output_type": "stream",
     "text": [
      "+-----------+------+\n",
      "|       Tags| count|\n",
      "+-----------+------+\n",
      "|   <android|100395|\n",
      "|<javascript| 76988|\n",
      "|<javascript| 76753|\n",
      "|    <jquery| 76753|\n",
      "|       <php| 70538|\n",
      "+-----------+------+\n",
      "only showing top 5 rows\n",
      "\n"
     ]
    }
   ],
   "source": [
    "from pyspark.sql.functions import explode\n",
    "\n",
    "temp_tags = spark.createDataFrame(temp_rdd)\n",
    "temp_tags=temp_tags.withColumn(\"Tags\", explode(temp_tags.Tags))\n",
    "temp_tags.show(5)"
   ]
  },
  {
   "cell_type": "markdown",
   "metadata": {},
   "source": [
    "Again, we use the '<'  split opeation to turn the form like '<java' to 'java'."
   ]
  },
  {
   "cell_type": "code",
   "execution_count": 7,
   "metadata": {},
   "outputs": [
    {
     "name": "stdout",
     "output_type": "stream",
     "text": [
      "+----------+------+\n",
      "|      Tags| count|\n",
      "+----------+------+\n",
      "|   android|100395|\n",
      "|javascript| 76988|\n",
      "|javascript| 76753|\n",
      "|    jquery| 76753|\n",
      "|       php| 70538|\n",
      "+----------+------+\n",
      "only showing top 5 rows\n",
      "\n"
     ]
    }
   ],
   "source": [
    "temp_rdd=temp_tags.rdd.map(lambda r: Row(Tags=r[0][1:], count=r[1]))\n",
    "question_tags = spark.createDataFrame(temp_rdd)\n",
    "question_tags.show(5)"
   ]
  },
  {
   "cell_type": "markdown",
   "metadata": {},
   "source": [
    "We use the groupBy function to aggregate the counts of each unque 'Tags' value to get the count value of each tag. We also use the decending sort to get the count values from the largest to smallest."
   ]
  },
  {
   "cell_type": "code",
   "execution_count": 8,
   "metadata": {},
   "outputs": [
    {
     "name": "stdout",
     "output_type": "stream",
     "text": [
      "+-------------+-------+\n",
      "|         Tags|    sum|\n",
      "+-------------+-------+\n",
      "|   javascript|1585495|\n",
      "|         java|1352735|\n",
      "|           c#|1172492|\n",
      "|          php|1136082|\n",
      "|      android|1088811|\n",
      "|       python| 954401|\n",
      "|       jquery| 886982|\n",
      "|         html| 725289|\n",
      "|          ios| 551843|\n",
      "|          c++| 536267|\n",
      "|          css| 520821|\n",
      "|        mysql| 499795|\n",
      "|          sql| 436051|\n",
      "|      asp.net| 326270|\n",
      "|ruby-on-rails| 290977|\n",
      "|  objective-c| 272992|\n",
      "|         .net| 259404|\n",
      "|            c| 255644|\n",
      "|       arrays| 251753|\n",
      "|    angularjs| 249378|\n",
      "+-------------+-------+\n",
      "only showing top 20 rows\n",
      "\n"
     ]
    }
   ],
   "source": [
    "question_tags_count = question_tags.groupBy(\"Tags\")\\\n",
    "                                    .agg(sum(\"count\").alias(\"sum\"))\\\n",
    "                                    .sort(desc(\"sum\"))\n",
    "question_tags_count.show()"
   ]
  },
  {
   "cell_type": "markdown",
   "metadata": {},
   "source": [
    "1. What is the proportion of tags that appear in fewer than 100 questions?"
   ]
  },
  {
   "cell_type": "code",
   "execution_count": 10,
   "metadata": {},
   "outputs": [
    {
     "name": "stdout",
     "output_type": "stream",
     "text": [
      "0.6797939389364833 of tags that appear in fewer than 100 questions\n"
     ]
    }
   ],
   "source": [
    "num_tags=question_tags_count.count()\n",
    "tags_lower_than_100=question_tags_count[question_tags_count['sum']<100].count()\n",
    "temp_proportion=tags_lower_than_100/num_tags\n",
    "print(str(temp_proportion)+' of tags that appear in fewer than 100 questions')"
   ]
  },
  {
   "cell_type": "markdown",
   "metadata": {},
   "source": [
    "2. Plot the distribution of the tag counts using an appropriate representation"
   ]
  },
  {
   "cell_type": "markdown",
   "metadata": {},
   "source": [
    "Now the dataframe does not contain huge space and we can turn the spark dataframe to pandas dataframe. "
   ]
  },
  {
   "cell_type": "code",
   "execution_count": 11,
   "metadata": {},
   "outputs": [
    {
     "data": {
      "text/html": [
       "<div>\n",
       "<style scoped>\n",
       "    .dataframe tbody tr th:only-of-type {\n",
       "        vertical-align: middle;\n",
       "    }\n",
       "\n",
       "    .dataframe tbody tr th {\n",
       "        vertical-align: top;\n",
       "    }\n",
       "\n",
       "    .dataframe thead th {\n",
       "        text-align: right;\n",
       "    }\n",
       "</style>\n",
       "<table border=\"1\" class=\"dataframe\">\n",
       "  <thead>\n",
       "    <tr style=\"text-align: right;\">\n",
       "      <th></th>\n",
       "      <th>Tags</th>\n",
       "      <th>sum</th>\n",
       "    </tr>\n",
       "  </thead>\n",
       "  <tbody>\n",
       "    <tr>\n",
       "      <th>0</th>\n",
       "      <td>javascript</td>\n",
       "      <td>1585495</td>\n",
       "    </tr>\n",
       "    <tr>\n",
       "      <th>1</th>\n",
       "      <td>java</td>\n",
       "      <td>1352735</td>\n",
       "    </tr>\n",
       "    <tr>\n",
       "      <th>2</th>\n",
       "      <td>c#</td>\n",
       "      <td>1172492</td>\n",
       "    </tr>\n",
       "    <tr>\n",
       "      <th>3</th>\n",
       "      <td>php</td>\n",
       "      <td>1136082</td>\n",
       "    </tr>\n",
       "    <tr>\n",
       "      <th>4</th>\n",
       "      <td>android</td>\n",
       "      <td>1088811</td>\n",
       "    </tr>\n",
       "  </tbody>\n",
       "</table>\n",
       "</div>"
      ],
      "text/plain": [
       "         Tags      sum\n",
       "0  javascript  1585495\n",
       "1        java  1352735\n",
       "2          c#  1172492\n",
       "3         php  1136082\n",
       "4     android  1088811"
      ]
     },
     "execution_count": 11,
     "metadata": {},
     "output_type": "execute_result"
    }
   ],
   "source": [
    "question_tags_count_pd=question_tags_count.toPandas()\n",
    "question_tags_count_pd.head(5)"
   ]
  },
  {
   "cell_type": "markdown",
   "metadata": {},
   "source": [
    "We use the histogram to plot the distribution of tag counts calculated and use log to make the histogram look better."
   ]
  },
  {
   "cell_type": "code",
   "execution_count": 12,
   "metadata": {},
   "outputs": [
    {
     "data": {
      "image/png": "[encoded data removed]",
      "text/plain": [
       "<Figure size 432x288 with 1 Axes>"
      ]
     },
     "metadata": {},
     "output_type": "display_data"
    }
   ],
   "source": [
    "plt.xlabel('Questions Per Tag')\n",
    "plt.ylabel('Number of Tags Per Range')\n",
    "_ , _ , _ = plt.hist(question_tags_count_pd['sum'],facecolor='green',histtype='stepfilled',stacked=True,log=True)"
   ]
  },
  {
   "cell_type": "markdown",
   "metadata": {},
   "source": [
    "3. Plot a bar chart with the number of questions for the 10 most popular tags"
   ]
  },
  {
   "cell_type": "code",
   "execution_count": 13,
   "metadata": {},
   "outputs": [
    {
     "data": {
      "text/plain": [
       "Text(0,0.5,'Count of Per Tag')"
      ]
     },
     "execution_count": 13,
     "metadata": {},
     "output_type": "execute_result"
    },
    {
     "data": {
      "image/png": "[encoded data removed]",
      "text/plain": [
       "<Figure size 720x504 with 1 Axes>"
      ]
     },
     "metadata": {},
     "output_type": "display_data"
    }
   ],
   "source": [
    "temp_tags_count = question_tags_count_pd.head(10)\n",
    "p2 = temp_tags_count.plot(kind=\"bar\", x=\"Tags\", y=\"sum\", figsize=(10, 7), grid=True)\n",
    "p2.set_xlabel(\"Tag Name\")\n",
    "p2.set_ylabel(\"Count of Per Tag\")"
   ]
  },
  {
   "cell_type": "markdown",
   "metadata": {},
   "source": [
    "### Task C: View-score relation\n",
    "\n",
    "We want to investigate the correlation between the view count and the score of questions.\n",
    "\n",
    "1. Get the view count and score of the questions with tag ```random-effects``` and visualize the relation between these two variables using an appropriate plot.\n",
    "2. Are these two variables correlated? Use the Pearson coefficient to validate your hypothesis. Discuss your findings in detail.\n",
    "\n",
    "**Hint:** Inspect the data visually before drawing your conclusions."
   ]
  },
  {
   "cell_type": "code",
   "execution_count": 14,
   "metadata": {},
   "outputs": [],
   "source": [
    "# Add your code and description here"
   ]
  },
  {
   "cell_type": "markdown",
   "metadata": {},
   "source": [
    "### Task D: What are the tags with the fastest first answer?\n",
    "\n",
    "What are the tags that have the fastest response time from the community? We define the response time as the difference in seconds between the timestamps of the question and of the first answer received.\n",
    "\n",
    "1. Get the response time for the first answer of the questions with the tags ```python``` and ```java```.\n",
    "2. Plot the two distributions in an appropriate format. What do you observe? Describe your findings and discuss the following distribution properties: mean, median, standard deviation.\n",
    "3. We believe that the response time is lower for questions related to Python (compare to Java). Contradict or confirm this assumption by estimating the proper statistic with bootstrapping. Visualize the 95% confidence intervals with box plots and describe your findings.\n",
    "3. Repeat the first analysis (D1) by using the proper statistic to measure the response time for the tags that appear at least 5000 times. Plot the distribution of the 10 tags with the fastest response time.\n"
   ]
  },
  {
   "cell_type": "code",
   "execution_count": 15,
   "metadata": {},
   "outputs": [],
   "source": [
    "# Add your code and description here"
   ]
  },
  {
   "cell_type": "markdown",
   "metadata": {},
   "source": [
    "### Task E: What's up with PySpark?\n",
    "The number of questions asked regarding a specific topic reflect the public’s interest on it. We are interested on the popularity of PySpark. Compute and plot the number of questions with the ```pyspark``` tag for 30-day time intervals. Do you notice any trend over time? Is there any correlation between time and number of questions?\n"
   ]
  },
  {
   "cell_type": "code",
   "execution_count": 16,
   "metadata": {},
   "outputs": [
    {
     "data": {
      "text/html": [
       "<div>\n",
       "<style scoped>\n",
       "    .dataframe tbody tr th:only-of-type {\n",
       "        vertical-align: middle;\n",
       "    }\n",
       "\n",
       "    .dataframe tbody tr th {\n",
       "        vertical-align: top;\n",
       "    }\n",
       "\n",
       "    .dataframe thead th {\n",
       "        text-align: right;\n",
       "    }\n",
       "</style>\n",
       "<table border=\"1\" class=\"dataframe\">\n",
       "  <thead>\n",
       "    <tr style=\"text-align: right;\">\n",
       "      <th></th>\n",
       "      <th>Tags</th>\n",
       "      <th>sum</th>\n",
       "    </tr>\n",
       "  </thead>\n",
       "  <tbody>\n",
       "    <tr>\n",
       "      <th>567</th>\n",
       "      <td>pyspark</td>\n",
       "      <td>10266</td>\n",
       "    </tr>\n",
       "  </tbody>\n",
       "</table>\n",
       "</div>"
      ],
      "text/plain": [
       "        Tags    sum\n",
       "567  pyspark  10266"
      ]
     },
     "execution_count": 16,
     "metadata": {},
     "output_type": "execute_result"
    }
   ],
   "source": [
    "see_pyspark=question_tags_count_pd[[tags.endswith('pyspark') for tags in question_tags_count_pd.Tags]]\n",
    "see_pyspark"
   ]
  },
  {
   "cell_type": "code",
   "execution_count": 17,
   "metadata": {},
   "outputs": [
    {
     "name": "stdout",
     "output_type": "stream",
     "text": [
      "+-------+--------------------+----------+-----+--------------------+--------------------+---------+\n",
      "|     id|        CreationDate|PostTypeId|Score|                Tags|               Title|ViewCount|\n",
      "+-------+--------------------+----------+-----+--------------------+--------------------+---------+\n",
      "|4020437|2010-10-26T03:17:...|         1|    0|<asp.net-mvc><jqu...|display jquery di...|      510|\n",
      "|4020438|2010-10-26T03:18:...|         1|    0|<javascript><html...|Why can only my m...|       62|\n",
      "|4020445|2010-10-26T03:21:...|         1|    0|<c++><visual-stud...|Communicating ove...|     1170|\n",
      "|4020449|2010-10-26T03:21:...|         1|    0|<c#><textbox><fil...|C# Text Box File ...|      845|\n",
      "|4020450|2010-10-26T03:21:...|         1|    0|<php><wordpress><...|PHP image grab wh...|      761|\n",
      "+-------+--------------------+----------+-----+--------------------+--------------------+---------+\n",
      "only showing top 5 rows\n",
      "\n"
     ]
    }
   ],
   "source": [
    "from datetime import datetime, date, time, timedelta\n",
    "question.show(5)"
   ]
  },
  {
   "cell_type": "markdown",
   "metadata": {},
   "source": [
    "We turn the dataframe to rdd to split the tags into different signle tags and filter the questions with a tag of 'pyspark'. (since we filter the string by '>', each tag has a form like '<pyspark')"
   ]
  },
  {
   "cell_type": "code",
   "execution_count": 18,
   "metadata": {},
   "outputs": [
    {
     "data": {
      "text/plain": [
       "[Row(Tags=['<python', '<tuples', '<flatten', '<pyspark'], date=datetime.datetime(2015, 2, 18, 0, 0)),\n",
       " Row(Tags=['<java', '<python', '<apache-spark', '<pyspark'], date=datetime.datetime(2015, 2, 19, 0, 0)),\n",
       " Row(Tags=['<python', '<apache-spark', '<bigdata', '<pyspark'], date=datetime.datetime(2015, 2, 19, 0, 0)),\n",
       " Row(Tags=['<amazon-web-services', '<apache-spark', '<ipython', '<pyspark'], date=datetime.datetime(2015, 2, 20, 0, 0)),\n",
       " Row(Tags=['<json', '<amazon-s3', '<apache-spark', '<pyspark'], date=datetime.datetime(2015, 2, 23, 0, 0))]"
      ]
     },
     "execution_count": 18,
     "metadata": {},
     "output_type": "execute_result"
    }
   ],
   "source": [
    "tags_date_rdd=question.rdd.map(lambda r: Row(date=datetime.strptime(r[1][:10],'%Y-%m-%d'),Tags=r[4].split('>')[:-1]))\n",
    "pyspark_date=tags_date_rdd.filter(lambda r:  '<pyspark' in r[0] )\n",
    "pyspark_date.take(5)"
   ]
  },
  {
   "cell_type": "markdown",
   "metadata": {},
   "source": [
    "We turn the questions with pyspark tags to pandas dataframe."
   ]
  },
  {
   "cell_type": "code",
   "execution_count": 19,
   "metadata": {},
   "outputs": [
    {
     "data": {
      "text/html": [
       "<div>\n",
       "<style scoped>\n",
       "    .dataframe tbody tr th:only-of-type {\n",
       "        vertical-align: middle;\n",
       "    }\n",
       "\n",
       "    .dataframe tbody tr th {\n",
       "        vertical-align: top;\n",
       "    }\n",
       "\n",
       "    .dataframe thead th {\n",
       "        text-align: right;\n",
       "    }\n",
       "</style>\n",
       "<table border=\"1\" class=\"dataframe\">\n",
       "  <thead>\n",
       "    <tr style=\"text-align: right;\">\n",
       "      <th></th>\n",
       "      <th>Tags</th>\n",
       "      <th>date</th>\n",
       "    </tr>\n",
       "  </thead>\n",
       "  <tbody>\n",
       "    <tr>\n",
       "      <th>0</th>\n",
       "      <td>[&lt;python, &lt;tuples, &lt;flatten, &lt;pyspark]</td>\n",
       "      <td>2015-02-18</td>\n",
       "    </tr>\n",
       "    <tr>\n",
       "      <th>1</th>\n",
       "      <td>[&lt;java, &lt;python, &lt;apache-spark, &lt;pyspark]</td>\n",
       "      <td>2015-02-19</td>\n",
       "    </tr>\n",
       "    <tr>\n",
       "      <th>2</th>\n",
       "      <td>[&lt;python, &lt;apache-spark, &lt;bigdata, &lt;pyspark]</td>\n",
       "      <td>2015-02-19</td>\n",
       "    </tr>\n",
       "    <tr>\n",
       "      <th>3</th>\n",
       "      <td>[&lt;amazon-web-services, &lt;apache-spark, &lt;ipython...</td>\n",
       "      <td>2015-02-20</td>\n",
       "    </tr>\n",
       "    <tr>\n",
       "      <th>4</th>\n",
       "      <td>[&lt;json, &lt;amazon-s3, &lt;apache-spark, &lt;pyspark]</td>\n",
       "      <td>2015-02-23</td>\n",
       "    </tr>\n",
       "  </tbody>\n",
       "</table>\n",
       "</div>"
      ],
      "text/plain": [
       "                                                Tags       date\n",
       "0             [<python, <tuples, <flatten, <pyspark] 2015-02-18\n",
       "1          [<java, <python, <apache-spark, <pyspark] 2015-02-19\n",
       "2       [<python, <apache-spark, <bigdata, <pyspark] 2015-02-19\n",
       "3  [<amazon-web-services, <apache-spark, <ipython... 2015-02-20\n",
       "4       [<json, <amazon-s3, <apache-spark, <pyspark] 2015-02-23"
      ]
     },
     "execution_count": 19,
     "metadata": {},
     "output_type": "execute_result"
    }
   ],
   "source": [
    "pyspark_date_df = spark.createDataFrame(pyspark_date)\n",
    "pyspark_date_pd=pyspark_date_df.toPandas()\n",
    "pyspark_date_pd.head(5)"
   ]
  },
  {
   "cell_type": "markdown",
   "metadata": {},
   "source": [
    "We sort the dataframe with the ascending of data, for convenience of later distribution statistics."
   ]
  },
  {
   "cell_type": "code",
   "execution_count": 20,
   "metadata": {},
   "outputs": [
    {
     "data": {
      "text/html": [
       "<div>\n",
       "<style scoped>\n",
       "    .dataframe tbody tr th:only-of-type {\n",
       "        vertical-align: middle;\n",
       "    }\n",
       "\n",
       "    .dataframe tbody tr th {\n",
       "        vertical-align: top;\n",
       "    }\n",
       "\n",
       "    .dataframe thead th {\n",
       "        text-align: right;\n",
       "    }\n",
       "</style>\n",
       "<table border=\"1\" class=\"dataframe\">\n",
       "  <thead>\n",
       "    <tr style=\"text-align: right;\">\n",
       "      <th></th>\n",
       "      <th>date</th>\n",
       "      <th>Tags</th>\n",
       "    </tr>\n",
       "  </thead>\n",
       "  <tbody>\n",
       "    <tr>\n",
       "      <th>0</th>\n",
       "      <td>2014-04-23</td>\n",
       "      <td>[&lt;python, &lt;apache-spark, &lt;pyspark]</td>\n",
       "    </tr>\n",
       "    <tr>\n",
       "      <th>1</th>\n",
       "      <td>2014-08-07</td>\n",
       "      <td>[&lt;python, &lt;apache-spark, &lt;hadoop, &lt;pyspark, &lt;y...</td>\n",
       "    </tr>\n",
       "    <tr>\n",
       "      <th>2</th>\n",
       "      <td>2014-10-02</td>\n",
       "      <td>[&lt;python, &lt;apache-spark, &lt;pyspark, &lt;distribute...</td>\n",
       "    </tr>\n",
       "    <tr>\n",
       "      <th>3</th>\n",
       "      <td>2014-10-18</td>\n",
       "      <td>[&lt;apache-spark, &lt;apache-spark-sql, &lt;pyspark]</td>\n",
       "    </tr>\n",
       "    <tr>\n",
       "      <th>4</th>\n",
       "      <td>2014-10-24</td>\n",
       "      <td>[&lt;apache-spark, &lt;nltk, &lt;emr, &lt;textblob, &lt;pyspark]</td>\n",
       "    </tr>\n",
       "    <tr>\n",
       "      <th>5</th>\n",
       "      <td>2014-11-04</td>\n",
       "      <td>[&lt;python, &lt;apache-spark, &lt;pyspark]</td>\n",
       "    </tr>\n",
       "    <tr>\n",
       "      <th>6</th>\n",
       "      <td>2014-11-12</td>\n",
       "      <td>[&lt;scala, &lt;apache-spark, &lt;pyspark]</td>\n",
       "    </tr>\n",
       "    <tr>\n",
       "      <th>7</th>\n",
       "      <td>2014-11-15</td>\n",
       "      <td>[&lt;python, &lt;apache-spark, &lt;pyspark, &lt;rdd]</td>\n",
       "    </tr>\n",
       "    <tr>\n",
       "      <th>8</th>\n",
       "      <td>2014-11-16</td>\n",
       "      <td>[&lt;python, &lt;apache-spark, &lt;pyspark]</td>\n",
       "    </tr>\n",
       "    <tr>\n",
       "      <th>9</th>\n",
       "      <td>2014-11-18</td>\n",
       "      <td>[&lt;python, &lt;apache-spark, &lt;mapreduce, &lt;pyspark,...</td>\n",
       "    </tr>\n",
       "  </tbody>\n",
       "</table>\n",
       "</div>"
      ],
      "text/plain": [
       "        date                                               Tags\n",
       "0 2014-04-23                 [<python, <apache-spark, <pyspark]\n",
       "1 2014-08-07  [<python, <apache-spark, <hadoop, <pyspark, <y...\n",
       "2 2014-10-02  [<python, <apache-spark, <pyspark, <distribute...\n",
       "3 2014-10-18       [<apache-spark, <apache-spark-sql, <pyspark]\n",
       "4 2014-10-24  [<apache-spark, <nltk, <emr, <textblob, <pyspark]\n",
       "5 2014-11-04                 [<python, <apache-spark, <pyspark]\n",
       "6 2014-11-12                  [<scala, <apache-spark, <pyspark]\n",
       "7 2014-11-15           [<python, <apache-spark, <pyspark, <rdd]\n",
       "8 2014-11-16                 [<python, <apache-spark, <pyspark]\n",
       "9 2014-11-18  [<python, <apache-spark, <mapreduce, <pyspark,..."
      ]
     },
     "execution_count": 20,
     "metadata": {},
     "output_type": "execute_result"
    }
   ],
   "source": [
    "pyspark_date_raw= pyspark_date_pd[['date','Tags']].sort_values(ascending=True,  by='date')\n",
    "pyspark_date_raw.reset_index(inplace=True)\n",
    "pyspark_date_raw=pyspark_date_raw[['date','Tags']]\n",
    "pyspark_date_raw.head(10)"
   ]
  },
  {
   "cell_type": "markdown",
   "metadata": {},
   "source": [
    "As we see, the earliest time is 2014-04-23. We set this date as the first time point of a new pandas dataframe, and get the date of 30-day interval until now. "
   ]
  },
  {
   "cell_type": "code",
   "execution_count": 21,
   "metadata": {},
   "outputs": [
    {
     "data": {
      "text/html": [
       "<div>\n",
       "<style scoped>\n",
       "    .dataframe tbody tr th:only-of-type {\n",
       "        vertical-align: middle;\n",
       "    }\n",
       "\n",
       "    .dataframe tbody tr th {\n",
       "        vertical-align: top;\n",
       "    }\n",
       "\n",
       "    .dataframe thead th {\n",
       "        text-align: right;\n",
       "    }\n",
       "</style>\n",
       "<table border=\"1\" class=\"dataframe\">\n",
       "  <thead>\n",
       "    <tr style=\"text-align: right;\">\n",
       "      <th></th>\n",
       "      <th>date</th>\n",
       "    </tr>\n",
       "  </thead>\n",
       "  <tbody>\n",
       "    <tr>\n",
       "      <th>0</th>\n",
       "      <td>2014-04-23</td>\n",
       "    </tr>\n",
       "    <tr>\n",
       "      <th>1</th>\n",
       "      <td>2014-05-23</td>\n",
       "    </tr>\n",
       "    <tr>\n",
       "      <th>2</th>\n",
       "      <td>2014-06-22</td>\n",
       "    </tr>\n",
       "    <tr>\n",
       "      <th>3</th>\n",
       "      <td>2014-07-22</td>\n",
       "    </tr>\n",
       "    <tr>\n",
       "      <th>4</th>\n",
       "      <td>2014-08-21</td>\n",
       "    </tr>\n",
       "    <tr>\n",
       "      <th>5</th>\n",
       "      <td>2014-09-20</td>\n",
       "    </tr>\n",
       "    <tr>\n",
       "      <th>6</th>\n",
       "      <td>2014-10-20</td>\n",
       "    </tr>\n",
       "    <tr>\n",
       "      <th>7</th>\n",
       "      <td>2014-11-19</td>\n",
       "    </tr>\n",
       "    <tr>\n",
       "      <th>8</th>\n",
       "      <td>2014-12-19</td>\n",
       "    </tr>\n",
       "    <tr>\n",
       "      <th>9</th>\n",
       "      <td>2015-01-18</td>\n",
       "    </tr>\n",
       "  </tbody>\n",
       "</table>\n",
       "</div>"
      ],
      "text/plain": [
       "        date\n",
       "0 2014-04-23\n",
       "1 2014-05-23\n",
       "2 2014-06-22\n",
       "3 2014-07-22\n",
       "4 2014-08-21\n",
       "5 2014-09-20\n",
       "6 2014-10-20\n",
       "7 2014-11-19\n",
       "8 2014-12-19\n",
       "9 2015-01-18"
      ]
     },
     "execution_count": 21,
     "metadata": {},
     "output_type": "execute_result"
    }
   ],
   "source": [
    "pyspark_date_count=pyspark_date_raw[['date']].copy()\n",
    "now = datetime.now()\n",
    "i=1\n",
    "temp_time=pyspark_date_raw['date'][0]\n",
    "while temp_time < now :\n",
    "    temp_time=temp_time+ timedelta(days = 30)\n",
    "    pyspark_date_count['date'][i]=temp_time\n",
    "    i=i+1\n",
    "pyspark_date_count=pyspark_date_count[0:i]\n",
    "pyspark_date_count.head(10)"
   ]
  },
  {
   "cell_type": "markdown",
   "metadata": {},
   "source": [
    "Now we use a simple for-loop to calculate the count within each 30-day interval. Since the raw dataset and the count dataset both have ascending date values, we just add 1 to the related count value when the date in the raw dataset is within the 30-day interview (later than a date and also earlier than the next date in the count dataset )."
   ]
  },
  {
   "cell_type": "code",
   "execution_count": 22,
   "metadata": {},
   "outputs": [
    {
     "name": "stderr",
     "output_type": "stream",
     "text": [
      "D:\\python\\lib\\site-packages\\ipykernel_launcher.py:5: SettingWithCopyWarning: \n",
      "A value is trying to be set on a copy of a slice from a DataFrame\n",
      "\n",
      "See the caveats in the documentation: http://pandas.pydata.org/pandas-docs/stable/indexing.html#indexing-view-versus-copy\n",
      "  \"\"\"\n"
     ]
    },
    {
     "data": {
      "text/html": [
       "<div>\n",
       "<style scoped>\n",
       "    .dataframe tbody tr th:only-of-type {\n",
       "        vertical-align: middle;\n",
       "    }\n",
       "\n",
       "    .dataframe tbody tr th {\n",
       "        vertical-align: top;\n",
       "    }\n",
       "\n",
       "    .dataframe thead th {\n",
       "        text-align: right;\n",
       "    }\n",
       "</style>\n",
       "<table border=\"1\" class=\"dataframe\">\n",
       "  <thead>\n",
       "    <tr style=\"text-align: right;\">\n",
       "      <th></th>\n",
       "      <th>date</th>\n",
       "      <th>count</th>\n",
       "    </tr>\n",
       "  </thead>\n",
       "  <tbody>\n",
       "    <tr>\n",
       "      <th>0</th>\n",
       "      <td>2014-04-23</td>\n",
       "      <td>1</td>\n",
       "    </tr>\n",
       "    <tr>\n",
       "      <th>1</th>\n",
       "      <td>2014-05-23</td>\n",
       "      <td>0</td>\n",
       "    </tr>\n",
       "    <tr>\n",
       "      <th>2</th>\n",
       "      <td>2014-06-22</td>\n",
       "      <td>0</td>\n",
       "    </tr>\n",
       "    <tr>\n",
       "      <th>3</th>\n",
       "      <td>2014-07-22</td>\n",
       "      <td>1</td>\n",
       "    </tr>\n",
       "    <tr>\n",
       "      <th>4</th>\n",
       "      <td>2014-08-21</td>\n",
       "      <td>0</td>\n",
       "    </tr>\n",
       "    <tr>\n",
       "      <th>5</th>\n",
       "      <td>2014-09-20</td>\n",
       "      <td>2</td>\n",
       "    </tr>\n",
       "    <tr>\n",
       "      <th>6</th>\n",
       "      <td>2014-10-20</td>\n",
       "      <td>6</td>\n",
       "    </tr>\n",
       "    <tr>\n",
       "      <th>7</th>\n",
       "      <td>2014-11-19</td>\n",
       "      <td>1</td>\n",
       "    </tr>\n",
       "    <tr>\n",
       "      <th>8</th>\n",
       "      <td>2014-12-19</td>\n",
       "      <td>6</td>\n",
       "    </tr>\n",
       "    <tr>\n",
       "      <th>9</th>\n",
       "      <td>2015-01-18</td>\n",
       "      <td>11</td>\n",
       "    </tr>\n",
       "    <tr>\n",
       "      <th>10</th>\n",
       "      <td>2015-02-17</td>\n",
       "      <td>28</td>\n",
       "    </tr>\n",
       "    <tr>\n",
       "      <th>11</th>\n",
       "      <td>2015-03-19</td>\n",
       "      <td>39</td>\n",
       "    </tr>\n",
       "    <tr>\n",
       "      <th>12</th>\n",
       "      <td>2015-04-18</td>\n",
       "      <td>57</td>\n",
       "    </tr>\n",
       "    <tr>\n",
       "      <th>13</th>\n",
       "      <td>2015-05-18</td>\n",
       "      <td>53</td>\n",
       "    </tr>\n",
       "    <tr>\n",
       "      <th>14</th>\n",
       "      <td>2015-06-17</td>\n",
       "      <td>122</td>\n",
       "    </tr>\n",
       "    <tr>\n",
       "      <th>15</th>\n",
       "      <td>2015-07-17</td>\n",
       "      <td>109</td>\n",
       "    </tr>\n",
       "    <tr>\n",
       "      <th>16</th>\n",
       "      <td>2015-08-16</td>\n",
       "      <td>99</td>\n",
       "    </tr>\n",
       "    <tr>\n",
       "      <th>17</th>\n",
       "      <td>2015-09-15</td>\n",
       "      <td>108</td>\n",
       "    </tr>\n",
       "    <tr>\n",
       "      <th>18</th>\n",
       "      <td>2015-10-15</td>\n",
       "      <td>120</td>\n",
       "    </tr>\n",
       "    <tr>\n",
       "      <th>19</th>\n",
       "      <td>2015-11-14</td>\n",
       "      <td>143</td>\n",
       "    </tr>\n",
       "    <tr>\n",
       "      <th>20</th>\n",
       "      <td>2015-12-14</td>\n",
       "      <td>109</td>\n",
       "    </tr>\n",
       "    <tr>\n",
       "      <th>21</th>\n",
       "      <td>2016-01-13</td>\n",
       "      <td>141</td>\n",
       "    </tr>\n",
       "    <tr>\n",
       "      <th>22</th>\n",
       "      <td>2016-02-12</td>\n",
       "      <td>191</td>\n",
       "    </tr>\n",
       "    <tr>\n",
       "      <th>23</th>\n",
       "      <td>2016-03-13</td>\n",
       "      <td>205</td>\n",
       "    </tr>\n",
       "    <tr>\n",
       "      <th>24</th>\n",
       "      <td>2016-04-12</td>\n",
       "      <td>208</td>\n",
       "    </tr>\n",
       "    <tr>\n",
       "      <th>25</th>\n",
       "      <td>2016-05-12</td>\n",
       "      <td>210</td>\n",
       "    </tr>\n",
       "    <tr>\n",
       "      <th>26</th>\n",
       "      <td>2016-06-11</td>\n",
       "      <td>229</td>\n",
       "    </tr>\n",
       "    <tr>\n",
       "      <th>27</th>\n",
       "      <td>2016-07-11</td>\n",
       "      <td>239</td>\n",
       "    </tr>\n",
       "    <tr>\n",
       "      <th>28</th>\n",
       "      <td>2016-08-10</td>\n",
       "      <td>256</td>\n",
       "    </tr>\n",
       "    <tr>\n",
       "      <th>29</th>\n",
       "      <td>2016-09-09</td>\n",
       "      <td>210</td>\n",
       "    </tr>\n",
       "    <tr>\n",
       "      <th>30</th>\n",
       "      <td>2016-10-09</td>\n",
       "      <td>233</td>\n",
       "    </tr>\n",
       "    <tr>\n",
       "      <th>31</th>\n",
       "      <td>2016-11-08</td>\n",
       "      <td>255</td>\n",
       "    </tr>\n",
       "    <tr>\n",
       "      <th>32</th>\n",
       "      <td>2016-12-08</td>\n",
       "      <td>234</td>\n",
       "    </tr>\n",
       "    <tr>\n",
       "      <th>33</th>\n",
       "      <td>2017-01-07</td>\n",
       "      <td>227</td>\n",
       "    </tr>\n",
       "    <tr>\n",
       "      <th>34</th>\n",
       "      <td>2017-02-06</td>\n",
       "      <td>263</td>\n",
       "    </tr>\n",
       "    <tr>\n",
       "      <th>35</th>\n",
       "      <td>2017-03-08</td>\n",
       "      <td>293</td>\n",
       "    </tr>\n",
       "    <tr>\n",
       "      <th>36</th>\n",
       "      <td>2017-04-07</td>\n",
       "      <td>241</td>\n",
       "    </tr>\n",
       "    <tr>\n",
       "      <th>37</th>\n",
       "      <td>2017-05-07</td>\n",
       "      <td>264</td>\n",
       "    </tr>\n",
       "    <tr>\n",
       "      <th>38</th>\n",
       "      <td>2017-06-06</td>\n",
       "      <td>250</td>\n",
       "    </tr>\n",
       "    <tr>\n",
       "      <th>39</th>\n",
       "      <td>2017-07-06</td>\n",
       "      <td>292</td>\n",
       "    </tr>\n",
       "    <tr>\n",
       "      <th>40</th>\n",
       "      <td>2017-08-05</td>\n",
       "      <td>280</td>\n",
       "    </tr>\n",
       "    <tr>\n",
       "      <th>41</th>\n",
       "      <td>2017-09-04</td>\n",
       "      <td>381</td>\n",
       "    </tr>\n",
       "    <tr>\n",
       "      <th>42</th>\n",
       "      <td>2017-10-04</td>\n",
       "      <td>351</td>\n",
       "    </tr>\n",
       "    <tr>\n",
       "      <th>43</th>\n",
       "      <td>2017-11-03</td>\n",
       "      <td>316</td>\n",
       "    </tr>\n",
       "    <tr>\n",
       "      <th>44</th>\n",
       "      <td>2017-12-03</td>\n",
       "      <td>294</td>\n",
       "    </tr>\n",
       "    <tr>\n",
       "      <th>45</th>\n",
       "      <td>2018-01-02</td>\n",
       "      <td>354</td>\n",
       "    </tr>\n",
       "    <tr>\n",
       "      <th>46</th>\n",
       "      <td>2018-02-01</td>\n",
       "      <td>396</td>\n",
       "    </tr>\n",
       "    <tr>\n",
       "      <th>47</th>\n",
       "      <td>2018-03-03</td>\n",
       "      <td>442</td>\n",
       "    </tr>\n",
       "    <tr>\n",
       "      <th>48</th>\n",
       "      <td>2018-04-02</td>\n",
       "      <td>357</td>\n",
       "    </tr>\n",
       "    <tr>\n",
       "      <th>49</th>\n",
       "      <td>2018-05-02</td>\n",
       "      <td>474</td>\n",
       "    </tr>\n",
       "    <tr>\n",
       "      <th>50</th>\n",
       "      <td>2018-06-01</td>\n",
       "      <td>371</td>\n",
       "    </tr>\n",
       "    <tr>\n",
       "      <th>51</th>\n",
       "      <td>2018-07-01</td>\n",
       "      <td>345</td>\n",
       "    </tr>\n",
       "    <tr>\n",
       "      <th>52</th>\n",
       "      <td>2018-07-31</td>\n",
       "      <td>407</td>\n",
       "    </tr>\n",
       "    <tr>\n",
       "      <th>53</th>\n",
       "      <td>2018-08-30</td>\n",
       "      <td>42</td>\n",
       "    </tr>\n",
       "    <tr>\n",
       "      <th>54</th>\n",
       "      <td>2018-09-29</td>\n",
       "      <td>0</td>\n",
       "    </tr>\n",
       "    <tr>\n",
       "      <th>55</th>\n",
       "      <td>2018-10-29</td>\n",
       "      <td>0</td>\n",
       "    </tr>\n",
       "    <tr>\n",
       "      <th>56</th>\n",
       "      <td>2018-11-28</td>\n",
       "      <td>0</td>\n",
       "    </tr>\n",
       "  </tbody>\n",
       "</table>\n",
       "</div>"
      ],
      "text/plain": [
       "         date  count\n",
       "0  2014-04-23      1\n",
       "1  2014-05-23      0\n",
       "2  2014-06-22      0\n",
       "3  2014-07-22      1\n",
       "4  2014-08-21      0\n",
       "5  2014-09-20      2\n",
       "6  2014-10-20      6\n",
       "7  2014-11-19      1\n",
       "8  2014-12-19      6\n",
       "9  2015-01-18     11\n",
       "10 2015-02-17     28\n",
       "11 2015-03-19     39\n",
       "12 2015-04-18     57\n",
       "13 2015-05-18     53\n",
       "14 2015-06-17    122\n",
       "15 2015-07-17    109\n",
       "16 2015-08-16     99\n",
       "17 2015-09-15    108\n",
       "18 2015-10-15    120\n",
       "19 2015-11-14    143\n",
       "20 2015-12-14    109\n",
       "21 2016-01-13    141\n",
       "22 2016-02-12    191\n",
       "23 2016-03-13    205\n",
       "24 2016-04-12    208\n",
       "25 2016-05-12    210\n",
       "26 2016-06-11    229\n",
       "27 2016-07-11    239\n",
       "28 2016-08-10    256\n",
       "29 2016-09-09    210\n",
       "30 2016-10-09    233\n",
       "31 2016-11-08    255\n",
       "32 2016-12-08    234\n",
       "33 2017-01-07    227\n",
       "34 2017-02-06    263\n",
       "35 2017-03-08    293\n",
       "36 2017-04-07    241\n",
       "37 2017-05-07    264\n",
       "38 2017-06-06    250\n",
       "39 2017-07-06    292\n",
       "40 2017-08-05    280\n",
       "41 2017-09-04    381\n",
       "42 2017-10-04    351\n",
       "43 2017-11-03    316\n",
       "44 2017-12-03    294\n",
       "45 2018-01-02    354\n",
       "46 2018-02-01    396\n",
       "47 2018-03-03    442\n",
       "48 2018-04-02    357\n",
       "49 2018-05-02    474\n",
       "50 2018-06-01    371\n",
       "51 2018-07-01    345\n",
       "52 2018-07-31    407\n",
       "53 2018-08-30     42\n",
       "54 2018-09-29      0\n",
       "55 2018-10-29      0\n",
       "56 2018-11-28      0"
      ]
     },
     "execution_count": 22,
     "metadata": {},
     "output_type": "execute_result"
    }
   ],
   "source": [
    "pyspark_date_count['count']=0\n",
    "for temp_time in pyspark_date_raw['date']:\n",
    "    for i in range(len(pyspark_date_count)-1):\n",
    "        if (not(temp_time < pyspark_date_count['date'][i])) and (temp_time < pyspark_date_count['date'][i+1]):\n",
    "            pyspark_date_count['count'][i]=pyspark_date_count['count'][i]+1\n",
    "pyspark_date_count"
   ]
  },
  {
   "cell_type": "markdown",
   "metadata": {},
   "source": [
    "plot a bar chart according to dataframe we get (usually it's better to use a histogram, but in this case a bar chart looks alike)"
   ]
  },
  {
   "cell_type": "code",
   "execution_count": 23,
   "metadata": {},
   "outputs": [
    {
     "data": {
      "text/plain": [
       "Text(0,0.5,'Numbers of Questions with Pyspark Per 30 Days')"
      ]
     },
     "execution_count": 23,
     "metadata": {},
     "output_type": "execute_result"
    },
    {
     "data": {
      "image/png": "[encoded data removed]",
      "text/plain": [
       "<Figure size 720x504 with 1 Axes>"
      ]
     },
     "metadata": {},
     "output_type": "display_data"
    }
   ],
   "source": [
    "p5 = pyspark_date_count.plot(kind=\"bar\", x=\"date\", y=\"count\", figsize=(10, 7), grid=True)\n",
    "p5.set_xlabel(\"Date(30 days interval)\")\n",
    "p5.set_ylabel(\"Numbers of Questions with Pyspark Per 30 Days\")"
   ]
  },
  {
   "cell_type": "markdown",
   "metadata": {},
   "source": [
    "As time goes, overall more and more questions covering pyspark have been asked despite some little fluctuations.\n",
    "\n",
    "The ADA course also follows the trend due to the convenience of pyspark :)"
   ]
  },
  {
   "cell_type": "code",
   "execution_count": null,
   "metadata": {},
   "outputs": [],
   "source": []
  }
 ],
 "metadata": {
  "kernelspec": {
   "display_name": "Python 3",
   "language": "python",
   "name": "python3"
  },
  "language_info": {
   "codemirror_mode": {
    "name": "ipython",
    "version": 3
   },
   "file_extension": ".py",
   "mimetype": "text/x-python",
   "name": "python",
   "nbconvert_exporter": "python",
   "pygments_lexer": "ipython3",
   "version": "3.5.6"
  }
 },
 "nbformat": 4,
 "nbformat_minor": 2
}

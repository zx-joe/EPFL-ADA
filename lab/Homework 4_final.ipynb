{
 "cells": [
  {
   "cell_type": "markdown",
   "metadata": {},
   "source": [
    "## Assignment 4: Obsevational Studies and Applied ML\n",
    "\n",
    "### Deadline\n",
    "November 21st,11:59PM\n",
    "\n",
    "### Important notes\n",
    "\n",
    "Make sure you push on GitHub your notebook with all the cells already evaluated. Don't forget to add a textual description of your thought process, the assumptions you made, and the solution you implemented. Back up any hypotheses and claims with data, since this is an important aspect of the course. Please write all your comments in English, and use meaningful variable names in your code. Your repo should have a single notebook (plus the data files necessary) in the master branch. If there are multiple notebooks present, we will not grade anything.\n",
    "\n",
    "Use this legendary link to create your repository: [link](https://classroom.github.com/g/YXtsr0QK)"
   ]
  },
  {
   "cell_type": "code",
   "execution_count": 1,
   "metadata": {},
   "outputs": [],
   "source": [
    "import pandas as pd\n",
    "import numpy as np\n",
    "import matplotlib.pyplot as plt\n",
    "from sklearn.linear_model import LinearRegression, LogisticRegression\n",
    "from sklearn.ensemble import RandomForestRegressor \n",
    "from sklearn.preprocessing import OneHotEncoder\n",
    "from pandas.plotting import scatter_matrix\n",
    "from sklearn.model_selection import cross_val_predict\n",
    "from sklearn.model_selection import cross_val_score\n",
    "import seaborn as sns\n",
    "%matplotlib inline\n",
    "import warnings\n",
    "sns.set_context('notebook')\n",
    "warnings.filterwarnings('ignore')\n",
    "import scipy as sp"
   ]
  },
  {
   "cell_type": "code",
   "execution_count": 2,
   "metadata": {},
   "outputs": [],
   "source": [
    "data_folder = 'Data/'"
   ]
  },
  {
   "cell_type": "markdown",
   "metadata": {},
   "source": [
    "## Task 1: Boosting the economy by incentivizing self-employment\n",
    "\n",
    "Assume the biggest priority of the local government in 2018 is to increase per-capita income. To do so, the officials plan to adopt a strategy for incentivizing self-employment through a series of campaigns, educational programs, and dedicated funds.\n",
    "\n",
    "Since it is unethical and impossible in this setting to run a controlled experiment involving citizens (e.g., fire employees and force them to self-employ), the officials have asked you, the data scientist, to establish the effect of self-employment on the economy, relying on observational data.\n",
    "\n",
    "**A)** You will be working with the full US 2015 census dataset (acs2015_county_data.csv, available at https://www.kaggle.com/muonneutrino/us-census-demographic-data#acs2015_county_data.csv). Using suitable methods, determine and quantify the dependency between the percentage of self-employed citizens and per capita income across all 3,212 US counties. Do citizens in counties that have a higher percentage of self-employed people earn more per capita?\n",
    "\n",
    "**B)** The pilot program will involve all counties within a limited set of three US states. Set A includes Wisconsin, Tennessee, and  Minnesota. Quantify the dependency of per-capita income on self-employment rates across all the counties in set A.\n",
    "\n",
    "**C)** In which state within set A is the observed effect of self-employment on per-capita income the strongest?\n",
    "\n",
    "**D)** Set B includes New Jersey, Kansas, and Rhode Island. Repeat the analysis from steps B and C above, but now for set B. In which of the two sets A and B (if any) would you recommend incentivizing self-employment? Explain your reasoning.\n",
    "\n",
    "Hint: It is useful to add a notion of confidence to your results and explore the data visually. You are allowed to use the SciPy library."
   ]
  },
  {
   "cell_type": "code",
   "execution_count": 3,
   "metadata": {},
   "outputs": [
    {
     "data": {
      "text/html": [
       "<div>\n",
       "<style scoped>\n",
       "    .dataframe tbody tr th:only-of-type {\n",
       "        vertical-align: middle;\n",
       "    }\n",
       "\n",
       "    .dataframe tbody tr th {\n",
       "        vertical-align: top;\n",
       "    }\n",
       "\n",
       "    .dataframe thead th {\n",
       "        text-align: right;\n",
       "    }\n",
       "</style>\n",
       "<table border=\"1\" class=\"dataframe\">\n",
       "  <thead>\n",
       "    <tr style=\"text-align: right;\">\n",
       "      <th></th>\n",
       "      <th>CensusId</th>\n",
       "      <th>State</th>\n",
       "      <th>County</th>\n",
       "      <th>TotalPop</th>\n",
       "      <th>Men</th>\n",
       "      <th>Women</th>\n",
       "      <th>Hispanic</th>\n",
       "      <th>White</th>\n",
       "      <th>Black</th>\n",
       "      <th>Native</th>\n",
       "      <th>...</th>\n",
       "      <th>Walk</th>\n",
       "      <th>OtherTransp</th>\n",
       "      <th>WorkAtHome</th>\n",
       "      <th>MeanCommute</th>\n",
       "      <th>Employed</th>\n",
       "      <th>PrivateWork</th>\n",
       "      <th>PublicWork</th>\n",
       "      <th>SelfEmployed</th>\n",
       "      <th>FamilyWork</th>\n",
       "      <th>Unemployment</th>\n",
       "    </tr>\n",
       "  </thead>\n",
       "  <tbody>\n",
       "    <tr>\n",
       "      <th>0</th>\n",
       "      <td>1001</td>\n",
       "      <td>Alabama</td>\n",
       "      <td>Autauga</td>\n",
       "      <td>55221</td>\n",
       "      <td>26745</td>\n",
       "      <td>28476</td>\n",
       "      <td>2.6</td>\n",
       "      <td>75.8</td>\n",
       "      <td>18.5</td>\n",
       "      <td>0.4</td>\n",
       "      <td>...</td>\n",
       "      <td>0.5</td>\n",
       "      <td>1.3</td>\n",
       "      <td>1.8</td>\n",
       "      <td>26.5</td>\n",
       "      <td>23986</td>\n",
       "      <td>73.6</td>\n",
       "      <td>20.9</td>\n",
       "      <td>5.5</td>\n",
       "      <td>0.0</td>\n",
       "      <td>7.6</td>\n",
       "    </tr>\n",
       "    <tr>\n",
       "      <th>1</th>\n",
       "      <td>1003</td>\n",
       "      <td>Alabama</td>\n",
       "      <td>Baldwin</td>\n",
       "      <td>195121</td>\n",
       "      <td>95314</td>\n",
       "      <td>99807</td>\n",
       "      <td>4.5</td>\n",
       "      <td>83.1</td>\n",
       "      <td>9.5</td>\n",
       "      <td>0.6</td>\n",
       "      <td>...</td>\n",
       "      <td>1.0</td>\n",
       "      <td>1.4</td>\n",
       "      <td>3.9</td>\n",
       "      <td>26.4</td>\n",
       "      <td>85953</td>\n",
       "      <td>81.5</td>\n",
       "      <td>12.3</td>\n",
       "      <td>5.8</td>\n",
       "      <td>0.4</td>\n",
       "      <td>7.5</td>\n",
       "    </tr>\n",
       "    <tr>\n",
       "      <th>2</th>\n",
       "      <td>1005</td>\n",
       "      <td>Alabama</td>\n",
       "      <td>Barbour</td>\n",
       "      <td>26932</td>\n",
       "      <td>14497</td>\n",
       "      <td>12435</td>\n",
       "      <td>4.6</td>\n",
       "      <td>46.2</td>\n",
       "      <td>46.7</td>\n",
       "      <td>0.2</td>\n",
       "      <td>...</td>\n",
       "      <td>1.8</td>\n",
       "      <td>1.5</td>\n",
       "      <td>1.6</td>\n",
       "      <td>24.1</td>\n",
       "      <td>8597</td>\n",
       "      <td>71.8</td>\n",
       "      <td>20.8</td>\n",
       "      <td>7.3</td>\n",
       "      <td>0.1</td>\n",
       "      <td>17.6</td>\n",
       "    </tr>\n",
       "    <tr>\n",
       "      <th>3</th>\n",
       "      <td>1007</td>\n",
       "      <td>Alabama</td>\n",
       "      <td>Bibb</td>\n",
       "      <td>22604</td>\n",
       "      <td>12073</td>\n",
       "      <td>10531</td>\n",
       "      <td>2.2</td>\n",
       "      <td>74.5</td>\n",
       "      <td>21.4</td>\n",
       "      <td>0.4</td>\n",
       "      <td>...</td>\n",
       "      <td>0.6</td>\n",
       "      <td>1.5</td>\n",
       "      <td>0.7</td>\n",
       "      <td>28.8</td>\n",
       "      <td>8294</td>\n",
       "      <td>76.8</td>\n",
       "      <td>16.1</td>\n",
       "      <td>6.7</td>\n",
       "      <td>0.4</td>\n",
       "      <td>8.3</td>\n",
       "    </tr>\n",
       "    <tr>\n",
       "      <th>4</th>\n",
       "      <td>1009</td>\n",
       "      <td>Alabama</td>\n",
       "      <td>Blount</td>\n",
       "      <td>57710</td>\n",
       "      <td>28512</td>\n",
       "      <td>29198</td>\n",
       "      <td>8.6</td>\n",
       "      <td>87.9</td>\n",
       "      <td>1.5</td>\n",
       "      <td>0.3</td>\n",
       "      <td>...</td>\n",
       "      <td>0.9</td>\n",
       "      <td>0.4</td>\n",
       "      <td>2.3</td>\n",
       "      <td>34.9</td>\n",
       "      <td>22189</td>\n",
       "      <td>82.0</td>\n",
       "      <td>13.5</td>\n",
       "      <td>4.2</td>\n",
       "      <td>0.4</td>\n",
       "      <td>7.7</td>\n",
       "    </tr>\n",
       "  </tbody>\n",
       "</table>\n",
       "<p>5 rows × 37 columns</p>\n",
       "</div>"
      ],
      "text/plain": [
       "   CensusId    State   County  TotalPop    Men  Women  Hispanic  White  Black  \\\n",
       "0      1001  Alabama  Autauga     55221  26745  28476       2.6   75.8   18.5   \n",
       "1      1003  Alabama  Baldwin    195121  95314  99807       4.5   83.1    9.5   \n",
       "2      1005  Alabama  Barbour     26932  14497  12435       4.6   46.2   46.7   \n",
       "3      1007  Alabama     Bibb     22604  12073  10531       2.2   74.5   21.4   \n",
       "4      1009  Alabama   Blount     57710  28512  29198       8.6   87.9    1.5   \n",
       "\n",
       "   Native      ...       Walk  OtherTransp  WorkAtHome  MeanCommute  Employed  \\\n",
       "0     0.4      ...        0.5          1.3         1.8         26.5     23986   \n",
       "1     0.6      ...        1.0          1.4         3.9         26.4     85953   \n",
       "2     0.2      ...        1.8          1.5         1.6         24.1      8597   \n",
       "3     0.4      ...        0.6          1.5         0.7         28.8      8294   \n",
       "4     0.3      ...        0.9          0.4         2.3         34.9     22189   \n",
       "\n",
       "   PrivateWork  PublicWork  SelfEmployed  FamilyWork  Unemployment  \n",
       "0         73.6        20.9           5.5         0.0           7.6  \n",
       "1         81.5        12.3           5.8         0.4           7.5  \n",
       "2         71.8        20.8           7.3         0.1          17.6  \n",
       "3         76.8        16.1           6.7         0.4           8.3  \n",
       "4         82.0        13.5           4.2         0.4           7.7  \n",
       "\n",
       "[5 rows x 37 columns]"
      ]
     },
     "execution_count": 3,
     "metadata": {},
     "output_type": "execute_result"
    }
   ],
   "source": [
    "data = pd.read_csv( 'Data/acs2015_county_data.csv')\n",
    "data.head()"
   ]
  },
  {
   "cell_type": "code",
   "execution_count": 4,
   "metadata": {},
   "outputs": [
    {
     "data": {
      "text/plain": [
       "(3220, 37)"
      ]
     },
     "execution_count": 4,
     "metadata": {},
     "output_type": "execute_result"
    }
   ],
   "source": [
    "data.shape"
   ]
  },
  {
   "cell_type": "code",
   "execution_count": 5,
   "metadata": {},
   "outputs": [
    {
     "data": {
      "text/plain": [
       "Index(['CensusId', 'State', 'County', 'TotalPop', 'Men', 'Women', 'Hispanic',\n",
       "       'White', 'Black', 'Native', 'Asian', 'Pacific', 'Citizen', 'Income',\n",
       "       'IncomeErr', 'IncomePerCap', 'IncomePerCapErr', 'Poverty',\n",
       "       'ChildPoverty', 'Professional', 'Service', 'Office', 'Construction',\n",
       "       'Production', 'Drive', 'Carpool', 'Transit', 'Walk', 'OtherTransp',\n",
       "       'WorkAtHome', 'MeanCommute', 'Employed', 'PrivateWork', 'PublicWork',\n",
       "       'SelfEmployed', 'FamilyWork', 'Unemployment'],\n",
       "      dtype='object')"
      ]
     },
     "execution_count": 5,
     "metadata": {},
     "output_type": "execute_result"
    }
   ],
   "source": [
    "data.columns"
   ]
  },
  {
   "cell_type": "markdown",
   "metadata": {},
   "source": [
    "We only need the relevant columns for this task: `CensusId`, `State`, `County`, `IncomePerCap`, `SelfEmployed`."
   ]
  },
  {
   "cell_type": "code",
   "execution_count": 6,
   "metadata": {},
   "outputs": [
    {
     "data": {
      "text/html": [
       "<div>\n",
       "<style scoped>\n",
       "    .dataframe tbody tr th:only-of-type {\n",
       "        vertical-align: middle;\n",
       "    }\n",
       "\n",
       "    .dataframe tbody tr th {\n",
       "        vertical-align: top;\n",
       "    }\n",
       "\n",
       "    .dataframe thead th {\n",
       "        text-align: right;\n",
       "    }\n",
       "</style>\n",
       "<table border=\"1\" class=\"dataframe\">\n",
       "  <thead>\n",
       "    <tr style=\"text-align: right;\">\n",
       "      <th></th>\n",
       "      <th>CensusId</th>\n",
       "      <th>State</th>\n",
       "      <th>County</th>\n",
       "      <th>IncomePerCap</th>\n",
       "      <th>SelfEmployed</th>\n",
       "    </tr>\n",
       "  </thead>\n",
       "  <tbody>\n",
       "    <tr>\n",
       "      <th>0</th>\n",
       "      <td>1001</td>\n",
       "      <td>Alabama</td>\n",
       "      <td>Autauga</td>\n",
       "      <td>24974</td>\n",
       "      <td>5.5</td>\n",
       "    </tr>\n",
       "    <tr>\n",
       "      <th>1</th>\n",
       "      <td>1003</td>\n",
       "      <td>Alabama</td>\n",
       "      <td>Baldwin</td>\n",
       "      <td>27317</td>\n",
       "      <td>5.8</td>\n",
       "    </tr>\n",
       "    <tr>\n",
       "      <th>2</th>\n",
       "      <td>1005</td>\n",
       "      <td>Alabama</td>\n",
       "      <td>Barbour</td>\n",
       "      <td>16824</td>\n",
       "      <td>7.3</td>\n",
       "    </tr>\n",
       "    <tr>\n",
       "      <th>3</th>\n",
       "      <td>1007</td>\n",
       "      <td>Alabama</td>\n",
       "      <td>Bibb</td>\n",
       "      <td>18431</td>\n",
       "      <td>6.7</td>\n",
       "    </tr>\n",
       "    <tr>\n",
       "      <th>4</th>\n",
       "      <td>1009</td>\n",
       "      <td>Alabama</td>\n",
       "      <td>Blount</td>\n",
       "      <td>20532</td>\n",
       "      <td>4.2</td>\n",
       "    </tr>\n",
       "  </tbody>\n",
       "</table>\n",
       "</div>"
      ],
      "text/plain": [
       "   CensusId    State   County  IncomePerCap  SelfEmployed\n",
       "0      1001  Alabama  Autauga         24974           5.5\n",
       "1      1003  Alabama  Baldwin         27317           5.8\n",
       "2      1005  Alabama  Barbour         16824           7.3\n",
       "3      1007  Alabama     Bibb         18431           6.7\n",
       "4      1009  Alabama   Blount         20532           4.2"
      ]
     },
     "execution_count": 6,
     "metadata": {},
     "output_type": "execute_result"
    }
   ],
   "source": [
    "employment_data = data[['CensusId', 'State', 'County', 'IncomePerCap', 'SelfEmployed']]\n",
    "employment_data.head()"
   ]
  },
  {
   "cell_type": "markdown",
   "metadata": {},
   "source": [
    "**A)** Using suitable methods, determine and quantify the dependency between the percentage of self-employed citizens and per capita income across all 3,220 US counties. Do citizens in counties that have a higher percentage of self-employed people earn more per capita?"
   ]
  },
  {
   "cell_type": "markdown",
   "metadata": {},
   "source": [
    "We use a scatter plot to discover the dependency between `SelfEmployed` and `IncomePerCap`."
   ]
  },
  {
   "cell_type": "code",
   "execution_count": 7,
   "metadata": {},
   "outputs": [
    {
     "data": {
      "text/plain": [
       "<matplotlib.axes._subplots.AxesSubplot at 0x289d9249048>"
      ]
     },
     "execution_count": 7,
     "metadata": {},
     "output_type": "execute_result"
    },
    {
     "data": {
      "image/png": "[encoded data removed]",
      "text/plain": [
       "<Figure size 720x432 with 1 Axes>"
      ]
     },
     "metadata": {},
     "output_type": "display_data"
    }
   ],
   "source": [
    "employment_data.plot(kind='scatter', x='SelfEmployed', y='IncomePerCap', figsize=(10, 6), \\\n",
    "                     title='Relation between self-employed rate and per capita income - USA', grid=True)"
   ]
  },
  {
   "cell_type": "markdown",
   "metadata": {},
   "source": [
    "We use `scipy.stats.pearsonr` to calculates a Pearson correlation coefficient and the p-value for testing non-correlation. The p-value can be used as a notion of confidence."
   ]
  },
  {
   "cell_type": "code",
   "execution_count": 8,
   "metadata": {},
   "outputs": [
    {
     "name": "stdout",
     "output_type": "stream",
     "text": [
      "For USA:\n",
      "\n",
      "Pearson's correlation coefficient: 0.08727386609551786\n",
      "2-tailed p-value: 7.052861196511526e-07\n"
     ]
    }
   ],
   "source": [
    "print('For USA:\\n')\n",
    "r, p = sp.stats.pearsonr(employment_data['SelfEmployed'], employment_data['IncomePerCap'])\n",
    "print(\"Pearson's correlation coefficient: \" + str(r) + \"\\n2-tailed p-value: \" + str(p))"
   ]
  },
  {
   "cell_type": "markdown",
   "metadata": {},
   "source": [
    "From the plot, we cannot observe a clear linear relationship between `SelfEmployed` and `IncomePerCap`. \n",
    "\n",
    "The pearson coefficient is close to 0 (<0.1), so the positive correlation is very weak. And we are 99% confident about it because p-value<0.01.\n",
    "\n",
    "So we cannot be convinced by the statement that citizens in counties that have a higher percentage of self-employed people earn more per capita."
   ]
  },
  {
   "cell_type": "markdown",
   "metadata": {},
   "source": [
    "**B)** The pilot program will involve all counties within a limited set of three US states. Set A includes Wisconsin, Tennessee, and  Minnesota. Quantify the dependency of per-capita income on self-employment rates across all the counties in set A."
   ]
  },
  {
   "cell_type": "markdown",
   "metadata": {},
   "source": [
    "We first define a function for filtering data from different states. It will also be useful for D)."
   ]
  },
  {
   "cell_type": "code",
   "execution_count": 9,
   "metadata": {},
   "outputs": [],
   "source": [
    "# get corresponding data from state name\n",
    "def filter_data(state_name):\n",
    "    return employment_data[employment_data['State'] == state_name]"
   ]
  },
  {
   "cell_type": "code",
   "execution_count": 10,
   "metadata": {},
   "outputs": [],
   "source": [
    "WI_data = filter_data('Wisconsin')\n",
    "TN_data = filter_data('Tennessee')\n",
    "MN_data = filter_data('Minnesota')"
   ]
  },
  {
   "cell_type": "code",
   "execution_count": 11,
   "metadata": {},
   "outputs": [],
   "source": [
    "set_A_data = WI_data.append(TN_data).append(MN_data)"
   ]
  },
  {
   "cell_type": "markdown",
   "metadata": {},
   "source": [
    "Then we can repeat the steps in A) and see what happens."
   ]
  },
  {
   "cell_type": "code",
   "execution_count": 12,
   "metadata": {},
   "outputs": [
    {
     "data": {
      "text/plain": [
       "<matplotlib.axes._subplots.AxesSubplot at 0x289d9507710>"
      ]
     },
     "execution_count": 12,
     "metadata": {},
     "output_type": "execute_result"
    },
    {
     "data": {
      "image/png": "[encoded data removed]",
      "text/plain": [
       "<Figure size 720x432 with 1 Axes>"
      ]
     },
     "metadata": {},
     "output_type": "display_data"
    }
   ],
   "source": [
    "set_A_data.plot(kind='scatter', x='SelfEmployed', y='IncomePerCap', figsize=(10, 6), \\\n",
    "                title='Relation between self-employed rate and per capita income - WI, TN & MN', grid=True)"
   ]
  },
  {
   "cell_type": "code",
   "execution_count": 13,
   "metadata": {},
   "outputs": [
    {
     "name": "stdout",
     "output_type": "stream",
     "text": [
      "For set A:\n",
      "\n",
      "Pearson's correlation coefficient: -0.20229350736521498\n",
      "2-tailed p-value: 0.0011881639322138852\n"
     ]
    }
   ],
   "source": [
    "print('For set A:\\n')\n",
    "r, p = sp.stats.pearsonr(set_A_data['SelfEmployed'], set_A_data['IncomePerCap'])\n",
    "print(\"Pearson's correlation coefficient: \" + str(r) + \"\\n2-tailed p-value: \" + str(p))"
   ]
  },
  {
   "cell_type": "markdown",
   "metadata": {},
   "source": [
    "The pearson coefficient is negative and its absolute value is about 0.20. So there is a weak negative correlation between self-employed rate and per capita income for set A. And we are 99% confident about it because p-value<0.01."
   ]
  },
  {
   "cell_type": "markdown",
   "metadata": {},
   "source": [
    "**C)** In which state within set A is the observed effect of self-employment on per-capita income the strongest?"
   ]
  },
  {
   "cell_type": "code",
   "execution_count": 14,
   "metadata": {},
   "outputs": [
    {
     "data": {
      "text/plain": [
       "<matplotlib.axes._subplots.AxesSubplot at 0x289d945c6a0>"
      ]
     },
     "execution_count": 14,
     "metadata": {},
     "output_type": "execute_result"
    },
    {
     "data": {
      "image/png": "[encoded data removed]",
      "text/plain": [
       "<Figure size 1152x576 with 3 Axes>"
      ]
     },
     "metadata": {},
     "output_type": "display_data"
    }
   ],
   "source": [
    "fig, axs = plt.subplots(1, 3, sharey=True)\n",
    "WI_data.plot(kind='scatter', x='SelfEmployed', y='IncomePerCap', title='WI', ax=axs[0], figsize=(16, 8), grid=True)\n",
    "TN_data.plot(kind='scatter', x='SelfEmployed', y='IncomePerCap', title='TN', ax=axs[1], grid=True)\n",
    "MN_data.plot(kind='scatter', x='SelfEmployed', y='IncomePerCap', title='MN', ax=axs[2], grid=True)"
   ]
  },
  {
   "cell_type": "code",
   "execution_count": 15,
   "metadata": {},
   "outputs": [
    {
     "name": "stdout",
     "output_type": "stream",
     "text": [
      "For WI:\n",
      "\n",
      "Pearson's correlation coefficient: -0.32905300016378525\n",
      "2-tailed p-value: 0.004768134887745234\n",
      "\n",
      "For TN:\n",
      "\n",
      "Pearson's correlation coefficient: -0.23836048684913141\n",
      "2-tailed p-value: 0.020011631955528197\n",
      "\n",
      "For MN:\n",
      "\n",
      "Pearson's correlation coefficient: -0.2538551921654062\n",
      "2-tailed p-value: 0.017665199300911965\n"
     ]
    }
   ],
   "source": [
    "print('For WI:\\n')\n",
    "r, p = sp.stats.pearsonr(WI_data['SelfEmployed'], WI_data['IncomePerCap'])\n",
    "print(\"Pearson's correlation coefficient: \" + str(r) + \"\\n2-tailed p-value: \" + str(p))\n",
    "\n",
    "print('\\nFor TN:\\n')\n",
    "r, p = sp.stats.pearsonr(TN_data['SelfEmployed'], TN_data['IncomePerCap'])\n",
    "print(\"Pearson's correlation coefficient: \" + str(r) + \"\\n2-tailed p-value: \" + str(p))\n",
    "\n",
    "print('\\nFor MN:\\n')\n",
    "r, p = sp.stats.pearsonr(MN_data['SelfEmployed'], MN_data['IncomePerCap'])\n",
    "print(\"Pearson's correlation coefficient: \" + str(r) + \"\\n2-tailed p-value: \" + str(p))"
   ]
  },
  {
   "cell_type": "markdown",
   "metadata": {},
   "source": [
    "All the p-values are less than 0.05 so we are 95% confident about these correlations.\n",
    "\n",
    "By comparing the absolute values of pearson coefficients in set A, we can see that the observed effect of self-employment on per-capita income is the strongest in Wisconsin, which is about 0.33(still weak)."
   ]
  },
  {
   "cell_type": "markdown",
   "metadata": {},
   "source": [
    "**D)** Set B includes New Jersey, Kansas, and Rhode Island. Repeat the analysis from steps B and C above, but now for set B. In which of the two sets A and B (if any) would you recommend incentivizing self-employment? Explain your reasoning."
   ]
  },
  {
   "cell_type": "markdown",
   "metadata": {},
   "source": [
    "Repeat the steps in B) and C):"
   ]
  },
  {
   "cell_type": "code",
   "execution_count": 16,
   "metadata": {},
   "outputs": [],
   "source": [
    "NJ_data = filter_data('New Jersey')\n",
    "KS_data = filter_data('Kansas')\n",
    "RI_data = filter_data('Rhode Island')"
   ]
  },
  {
   "cell_type": "code",
   "execution_count": 17,
   "metadata": {},
   "outputs": [],
   "source": [
    "set_B_data = NJ_data.append(KS_data).append(RI_data)"
   ]
  },
  {
   "cell_type": "code",
   "execution_count": 18,
   "metadata": {},
   "outputs": [
    {
     "data": {
      "text/plain": [
       "<matplotlib.axes._subplots.AxesSubplot at 0x289d976af98>"
      ]
     },
     "execution_count": 18,
     "metadata": {},
     "output_type": "execute_result"
    },
    {
     "data": {
      "image/png": "[encoded data removed]",
      "text/plain": [
       "<Figure size 720x432 with 1 Axes>"
      ]
     },
     "metadata": {},
     "output_type": "display_data"
    }
   ],
   "source": [
    "set_B_data.plot(kind='scatter', x='SelfEmployed', y='IncomePerCap', figsize=(10, 6), \\\n",
    "                title='Relation between self-employed rate and per capita income - NJ, KS & RI', grid=True)"
   ]
  },
  {
   "cell_type": "code",
   "execution_count": 19,
   "metadata": {},
   "outputs": [
    {
     "name": "stdout",
     "output_type": "stream",
     "text": [
      "For set B:\n",
      "\n",
      "Pearson's correlation coefficient: -0.23222141346085687\n",
      "2-tailed p-value: 0.007607493042857412\n"
     ]
    }
   ],
   "source": [
    "print('For set B:\\n')\n",
    "r, p = sp.stats.pearsonr(set_B_data['SelfEmployed'], set_B_data['IncomePerCap'])\n",
    "print(\"Pearson's correlation coefficient: \" + str(r) + \"\\n2-tailed p-value: \" + str(p))"
   ]
  },
  {
   "cell_type": "markdown",
   "metadata": {},
   "source": [
    "The pearson coefficient is negative and its absolute value is about 0.23. So there is a weak negative correlation between self-employed rate and per capita income for set B. And we are 99% confident about it because p-value<0.01."
   ]
  },
  {
   "cell_type": "code",
   "execution_count": 20,
   "metadata": {},
   "outputs": [
    {
     "data": {
      "text/plain": [
       "<matplotlib.axes._subplots.AxesSubplot at 0x289d982db38>"
      ]
     },
     "execution_count": 20,
     "metadata": {},
     "output_type": "execute_result"
    },
    {
     "data": {
      "image/png": "[encoded data removed]",
      "text/plain": [
       "<Figure size 1152x576 with 3 Axes>"
      ]
     },
     "metadata": {},
     "output_type": "display_data"
    }
   ],
   "source": [
    "fig, axs = plt.subplots(1, 3, sharey=True)\n",
    "NJ_data.plot(kind='scatter', x='SelfEmployed', y='IncomePerCap', title='NJ', ax=axs[0], figsize=(16, 8), grid=True)\n",
    "KS_data.plot(kind='scatter', x='SelfEmployed', y='IncomePerCap', title='KS', ax=axs[1], grid=True)\n",
    "RI_data.plot(kind='scatter', x='SelfEmployed', y='IncomePerCap', title='RI', ax=axs[2], grid=True)"
   ]
  },
  {
   "cell_type": "code",
   "execution_count": 21,
   "metadata": {},
   "outputs": [
    {
     "name": "stdout",
     "output_type": "stream",
     "text": [
      "For NJ:\n",
      "\n",
      "Pearson's correlation coefficient: 0.4804478471336282\n",
      "2-tailed p-value: 0.027488944757806204\n",
      "\n",
      "For KS:\n",
      "\n",
      "Pearson's correlation coefficient: 0.25810299714436913\n",
      "2-tailed p-value: 0.007853351846832446\n",
      "\n",
      "For RI:\n",
      "\n",
      "Pearson's correlation coefficient: 0.9021788382149803\n",
      "2-tailed p-value: 0.036183102015759236\n"
     ]
    }
   ],
   "source": [
    "print('For NJ:\\n')\n",
    "r, p = sp.stats.pearsonr(NJ_data['SelfEmployed'], NJ_data['IncomePerCap'])\n",
    "print(\"Pearson's correlation coefficient: \" + str(r) + \"\\n2-tailed p-value: \" + str(p))\n",
    "\n",
    "print('\\nFor KS:\\n')\n",
    "r, p = sp.stats.pearsonr(KS_data['SelfEmployed'], KS_data['IncomePerCap'])\n",
    "print(\"Pearson's correlation coefficient: \" + str(r) + \"\\n2-tailed p-value: \" + str(p))\n",
    "\n",
    "print('\\nFor RI:\\n')\n",
    "r, p = sp.stats.pearsonr(RI_data['SelfEmployed'], RI_data['IncomePerCap'])\n",
    "print(\"Pearson's correlation coefficient: \" + str(r) + \"\\n2-tailed p-value: \" + str(p))"
   ]
  },
  {
   "cell_type": "markdown",
   "metadata": {},
   "source": [
    "All the p-values are less than 0.05 so we are 95% confident about these correlations.\n",
    "\n",
    "By comparing the absolute values of pearson coefficients in set B, we can see that the observed effect of self-employment on per-capita income is the strongest in Rhode Island, which is about 0.9(very strong positive correlation)."
   ]
  },
  {
   "cell_type": "markdown",
   "metadata": {},
   "source": [
    "By the analysis above, I would recommend incentivizing self-employment in set B. \n",
    "\n",
    "In set A, we can only observe a weak negative correlation between self-employment on per-capita income in each of the three states(WI, TN & MN). This cannot convince us that incentivizing self-employment will lead to a high per-capita income. \n",
    "\n",
    "However, in set B, we observe a positive correlation between self-employment on per-capita income in each of the three states(NJ, KS & RI). The positive correlation in RI is rather strong(about 0.9), and the positive correlation in NJ is moderate(about 0.48). This convinces us that incentivizing self-employment in these three states may lead to a high per-capita income."
   ]
  },
  {
   "cell_type": "code",
   "execution_count": null,
   "metadata": {},
   "outputs": [],
   "source": []
  },
  {
   "cell_type": "markdown",
   "metadata": {},
   "source": [
    "\n"
   ]
  },
  {
   "cell_type": "markdown",
   "metadata": {
    "collapsed": true
   },
   "source": [
    "## Task 2: All you need is love… And a dog!\n",
    "\n",
    "Here we are going to build a classifier to predict whether an animal from an animal shelter will be adopted or not (aac_intakes_outcomes.csv, available at: https://www.kaggle.com/aaronschlegel/austin-animal-center-shelter-intakes-and-outcomes/version/1#aac_intakes_outcomes.csv). You will be working with the following features:\n",
    "\n",
    "1. *animal_type:* Type of animal. May be one of 'cat', 'dog', 'bird', etc.\n",
    "2. *intake_year:* Year of intake\n",
    "3. *intake_condition:* The intake condition of the animal. Can be one of 'normal', 'injured', 'sick', etc.\n",
    "4. *intake_number:* The intake number denoting the number of occurrences the animal has been brought into the shelter. Values higher than 1 indicate the animal has been taken into the shelter on more than one occasion.\n",
    "5. *intake_type:* The type of intake, for example, 'stray', 'owner surrender', etc.\n",
    "6. *sex_upon_intake:* The gender of the animal and if it has been spayed or neutered at the time of intake\n",
    "7. *age_upon\\_intake_(years):* The age of the animal upon intake represented in years\n",
    "8. *time_in_shelter_days:* Numeric value denoting the number of days the animal remained at the shelter from intake to outcome.\n",
    "9. *sex_upon_outcome:* The gender of the animal and if it has been spayed or neutered at time of outcome\n",
    "10. *age_upon\\_outcome_(years):* The age of the animal upon outcome represented in years\n",
    "11. *outcome_type:* The outcome type. Can be one of ‘adopted’, ‘transferred’, etc.\n",
    "\n",
    "**A)** Load the dataset and convert categorical features to a suitable numerical representation (use dummy-variable encoding). Split the data into a training set (80%) and a test set (20%). Pair each feature vector with the corresponding label, i.e., whether the outcome_type is adoption or not. Standardize the values of each feature in the data to have mean 0 and variance 1. The use of external libraries is not permitted in part A, except for numpy and pandas.\n",
    "\n",
    "**B)** Train a logistic regression classifier on your training set. Logistic regression returns probabilities as predictions, so in order to arrive at a binary prediction, you need to put a threshold on the predicted probabilities. For the decision threshold of 0.5, present the performance of your classifier on the test set by displaying the confusion matrix. Based on the confusion matrix, manually calculate accuracy, precision, recall, and F1-score with respect to the positive and the negative class. Vary the value of the threshold in the range from 0 to 1 and visualize the value of accuracy, precision, recall, and F1-score (with respect to both classes) as a function of the threshold. The shelter has a limited capacity and has no other option but to put to sleep animals with a low probability of adoption. What metric (precision, recall, accuracy, or F1-score) and with respect to what class is the most relevant when choosing the threshold in this scenario, and why? Explain your reasoning.\n",
    "\n",
    "**C)** Reduce the number of features by selecting the subset of the k best features. Use greedy backward selection to iteratively remove features. Evaluate performance and visualize the result using 5-fold cross-validation on the training set as a function of k, where k = 1, 5, 10, 15, 20, 25, 30. Choose the optimal k and justify your choice. Interpret the top-k features and their impact on the probability of adoption.\n",
    "\n",
    "**D)** Train a random forest. Use 5-fold cross-validation on the training set to fine-tune the parameters of the classifier using a grid search on the number of estimators \"n_estimators\" and the max depth of the trees \"max_depth\". For the chosen parameters, estimate the performance of your classifier on the test set by presenting the confusion matrix, accuracy, precision, recall, and F1-score with respect to both classes and compare the performance with the performance of the logistic regression. Interpret the results.\n",
    "\n",
    "You are allowed to use the scikit-learn library to implement your classifiers."
   ]
  },
  {
   "cell_type": "code",
   "execution_count": null,
   "metadata": {},
   "outputs": [],
   "source": []
  },
  {
   "cell_type": "markdown",
   "metadata": {},
   "source": [
    "# **A)** "
   ]
  },
  {
   "cell_type": "code",
   "execution_count": 22,
   "metadata": {},
   "outputs": [
    {
     "data": {
      "text/html": [
       "<div>\n",
       "<style scoped>\n",
       "    .dataframe tbody tr th:only-of-type {\n",
       "        vertical-align: middle;\n",
       "    }\n",
       "\n",
       "    .dataframe tbody tr th {\n",
       "        vertical-align: top;\n",
       "    }\n",
       "\n",
       "    .dataframe thead th {\n",
       "        text-align: right;\n",
       "    }\n",
       "</style>\n",
       "<table border=\"1\" class=\"dataframe\">\n",
       "  <thead>\n",
       "    <tr style=\"text-align: right;\">\n",
       "      <th></th>\n",
       "      <th>age_upon_outcome</th>\n",
       "      <th>animal_id_outcome</th>\n",
       "      <th>date_of_birth</th>\n",
       "      <th>outcome_subtype</th>\n",
       "      <th>outcome_type</th>\n",
       "      <th>sex_upon_outcome</th>\n",
       "      <th>age_upon_outcome_(days)</th>\n",
       "      <th>age_upon_outcome_(years)</th>\n",
       "      <th>age_upon_outcome_age_group</th>\n",
       "      <th>outcome_datetime</th>\n",
       "      <th>...</th>\n",
       "      <th>age_upon_intake_age_group</th>\n",
       "      <th>intake_datetime</th>\n",
       "      <th>intake_month</th>\n",
       "      <th>intake_year</th>\n",
       "      <th>intake_monthyear</th>\n",
       "      <th>intake_weekday</th>\n",
       "      <th>intake_hour</th>\n",
       "      <th>intake_number</th>\n",
       "      <th>time_in_shelter</th>\n",
       "      <th>time_in_shelter_days</th>\n",
       "    </tr>\n",
       "  </thead>\n",
       "  <tbody>\n",
       "    <tr>\n",
       "      <th>0</th>\n",
       "      <td>10 years</td>\n",
       "      <td>A006100</td>\n",
       "      <td>2007-07-09 00:00:00</td>\n",
       "      <td>NaN</td>\n",
       "      <td>Return to Owner</td>\n",
       "      <td>Neutered Male</td>\n",
       "      <td>3650</td>\n",
       "      <td>10.0</td>\n",
       "      <td>(7.5, 10.0]</td>\n",
       "      <td>2017-12-07 14:07:00</td>\n",
       "      <td>...</td>\n",
       "      <td>(7.5, 10.0]</td>\n",
       "      <td>2017-12-07 00:00:00</td>\n",
       "      <td>12</td>\n",
       "      <td>2017</td>\n",
       "      <td>2017-12</td>\n",
       "      <td>Thursday</td>\n",
       "      <td>14</td>\n",
       "      <td>1.0</td>\n",
       "      <td>0 days 14:07:00.000000000</td>\n",
       "      <td>0.588194</td>\n",
       "    </tr>\n",
       "    <tr>\n",
       "      <th>1</th>\n",
       "      <td>7 years</td>\n",
       "      <td>A006100</td>\n",
       "      <td>2007-07-09 00:00:00</td>\n",
       "      <td>NaN</td>\n",
       "      <td>Return to Owner</td>\n",
       "      <td>Neutered Male</td>\n",
       "      <td>2555</td>\n",
       "      <td>7.0</td>\n",
       "      <td>(5.0, 7.5]</td>\n",
       "      <td>2014-12-20 16:35:00</td>\n",
       "      <td>...</td>\n",
       "      <td>(5.0, 7.5]</td>\n",
       "      <td>2014-12-19 10:21:00</td>\n",
       "      <td>12</td>\n",
       "      <td>2014</td>\n",
       "      <td>2014-12</td>\n",
       "      <td>Friday</td>\n",
       "      <td>10</td>\n",
       "      <td>2.0</td>\n",
       "      <td>1 days 06:14:00.000000000</td>\n",
       "      <td>1.259722</td>\n",
       "    </tr>\n",
       "    <tr>\n",
       "      <th>2</th>\n",
       "      <td>6 years</td>\n",
       "      <td>A006100</td>\n",
       "      <td>2007-07-09 00:00:00</td>\n",
       "      <td>NaN</td>\n",
       "      <td>Return to Owner</td>\n",
       "      <td>Neutered Male</td>\n",
       "      <td>2190</td>\n",
       "      <td>6.0</td>\n",
       "      <td>(5.0, 7.5]</td>\n",
       "      <td>2014-03-08 17:10:00</td>\n",
       "      <td>...</td>\n",
       "      <td>(5.0, 7.5]</td>\n",
       "      <td>2014-03-07 14:26:00</td>\n",
       "      <td>3</td>\n",
       "      <td>2014</td>\n",
       "      <td>2014-03</td>\n",
       "      <td>Friday</td>\n",
       "      <td>14</td>\n",
       "      <td>3.0</td>\n",
       "      <td>1 days 02:44:00.000000000</td>\n",
       "      <td>1.113889</td>\n",
       "    </tr>\n",
       "    <tr>\n",
       "      <th>3</th>\n",
       "      <td>10 years</td>\n",
       "      <td>A047759</td>\n",
       "      <td>2004-04-02 00:00:00</td>\n",
       "      <td>Partner</td>\n",
       "      <td>Transfer</td>\n",
       "      <td>Neutered Male</td>\n",
       "      <td>3650</td>\n",
       "      <td>10.0</td>\n",
       "      <td>(7.5, 10.0]</td>\n",
       "      <td>2014-04-07 15:12:00</td>\n",
       "      <td>...</td>\n",
       "      <td>(7.5, 10.0]</td>\n",
       "      <td>2014-04-02 15:55:00</td>\n",
       "      <td>4</td>\n",
       "      <td>2014</td>\n",
       "      <td>2014-04</td>\n",
       "      <td>Wednesday</td>\n",
       "      <td>15</td>\n",
       "      <td>1.0</td>\n",
       "      <td>4 days 23:17:00.000000000</td>\n",
       "      <td>4.970139</td>\n",
       "    </tr>\n",
       "    <tr>\n",
       "      <th>4</th>\n",
       "      <td>16 years</td>\n",
       "      <td>A134067</td>\n",
       "      <td>1997-10-16 00:00:00</td>\n",
       "      <td>NaN</td>\n",
       "      <td>Return to Owner</td>\n",
       "      <td>Neutered Male</td>\n",
       "      <td>5840</td>\n",
       "      <td>16.0</td>\n",
       "      <td>(15.0, 17.5]</td>\n",
       "      <td>2013-11-16 11:54:00</td>\n",
       "      <td>...</td>\n",
       "      <td>(15.0, 17.5]</td>\n",
       "      <td>2013-11-16 09:02:00</td>\n",
       "      <td>11</td>\n",
       "      <td>2013</td>\n",
       "      <td>2013-11</td>\n",
       "      <td>Saturday</td>\n",
       "      <td>9</td>\n",
       "      <td>1.0</td>\n",
       "      <td>0 days 02:52:00.000000000</td>\n",
       "      <td>0.119444</td>\n",
       "    </tr>\n",
       "  </tbody>\n",
       "</table>\n",
       "<p>5 rows × 41 columns</p>\n",
       "</div>"
      ],
      "text/plain": [
       "  age_upon_outcome animal_id_outcome        date_of_birth outcome_subtype  \\\n",
       "0         10 years           A006100  2007-07-09 00:00:00             NaN   \n",
       "1          7 years           A006100  2007-07-09 00:00:00             NaN   \n",
       "2          6 years           A006100  2007-07-09 00:00:00             NaN   \n",
       "3         10 years           A047759  2004-04-02 00:00:00         Partner   \n",
       "4         16 years           A134067  1997-10-16 00:00:00             NaN   \n",
       "\n",
       "      outcome_type sex_upon_outcome  age_upon_outcome_(days)  \\\n",
       "0  Return to Owner    Neutered Male                     3650   \n",
       "1  Return to Owner    Neutered Male                     2555   \n",
       "2  Return to Owner    Neutered Male                     2190   \n",
       "3         Transfer    Neutered Male                     3650   \n",
       "4  Return to Owner    Neutered Male                     5840   \n",
       "\n",
       "   age_upon_outcome_(years) age_upon_outcome_age_group     outcome_datetime  \\\n",
       "0                      10.0                (7.5, 10.0]  2017-12-07 14:07:00   \n",
       "1                       7.0                 (5.0, 7.5]  2014-12-20 16:35:00   \n",
       "2                       6.0                 (5.0, 7.5]  2014-03-08 17:10:00   \n",
       "3                      10.0                (7.5, 10.0]  2014-04-07 15:12:00   \n",
       "4                      16.0               (15.0, 17.5]  2013-11-16 11:54:00   \n",
       "\n",
       "          ...           age_upon_intake_age_group      intake_datetime  \\\n",
       "0         ...                         (7.5, 10.0]  2017-12-07 00:00:00   \n",
       "1         ...                          (5.0, 7.5]  2014-12-19 10:21:00   \n",
       "2         ...                          (5.0, 7.5]  2014-03-07 14:26:00   \n",
       "3         ...                         (7.5, 10.0]  2014-04-02 15:55:00   \n",
       "4         ...                        (15.0, 17.5]  2013-11-16 09:02:00   \n",
       "\n",
       "  intake_month intake_year  intake_monthyear  intake_weekday  intake_hour  \\\n",
       "0           12        2017           2017-12        Thursday           14   \n",
       "1           12        2014           2014-12          Friday           10   \n",
       "2            3        2014           2014-03          Friday           14   \n",
       "3            4        2014           2014-04       Wednesday           15   \n",
       "4           11        2013           2013-11        Saturday            9   \n",
       "\n",
       "   intake_number            time_in_shelter time_in_shelter_days  \n",
       "0            1.0  0 days 14:07:00.000000000             0.588194  \n",
       "1            2.0  1 days 06:14:00.000000000             1.259722  \n",
       "2            3.0  1 days 02:44:00.000000000             1.113889  \n",
       "3            1.0  4 days 23:17:00.000000000             4.970139  \n",
       "4            1.0  0 days 02:52:00.000000000             0.119444  \n",
       "\n",
       "[5 rows x 41 columns]"
      ]
     },
     "execution_count": 22,
     "metadata": {},
     "output_type": "execute_result"
    }
   ],
   "source": [
    "aac_raw = pd.read_csv('Data/aac_intakes_outcomes.csv')\n",
    "aac_raw.head()"
   ]
  },
  {
   "cell_type": "markdown",
   "metadata": {},
   "source": [
    "We take the features required in the task and use pd_get_dummies to the 10 features to realize dummy-variable encoding.\n",
    "\n",
    "Also, we turn the desired outcome (outcome_type) to a binary value. According to task, we turn the value 'Adoption' to 1 and turn others to -1."
   ]
  },
  {
   "cell_type": "code",
   "execution_count": 23,
   "metadata": {
    "scrolled": true
   },
   "outputs": [
    {
     "data": {
      "text/html": [
       "<div>\n",
       "<style scoped>\n",
       "    .dataframe tbody tr th:only-of-type {\n",
       "        vertical-align: middle;\n",
       "    }\n",
       "\n",
       "    .dataframe tbody tr th {\n",
       "        vertical-align: top;\n",
       "    }\n",
       "\n",
       "    .dataframe thead th {\n",
       "        text-align: right;\n",
       "    }\n",
       "</style>\n",
       "<table border=\"1\" class=\"dataframe\">\n",
       "  <thead>\n",
       "    <tr style=\"text-align: right;\">\n",
       "      <th></th>\n",
       "      <th>outcome_type</th>\n",
       "    </tr>\n",
       "  </thead>\n",
       "  <tbody>\n",
       "    <tr>\n",
       "      <th>count</th>\n",
       "      <td>79672.000000</td>\n",
       "    </tr>\n",
       "    <tr>\n",
       "      <th>mean</th>\n",
       "      <td>-0.156692</td>\n",
       "    </tr>\n",
       "    <tr>\n",
       "      <th>std</th>\n",
       "      <td>0.987654</td>\n",
       "    </tr>\n",
       "    <tr>\n",
       "      <th>min</th>\n",
       "      <td>-1.000000</td>\n",
       "    </tr>\n",
       "    <tr>\n",
       "      <th>25%</th>\n",
       "      <td>-1.000000</td>\n",
       "    </tr>\n",
       "    <tr>\n",
       "      <th>50%</th>\n",
       "      <td>-1.000000</td>\n",
       "    </tr>\n",
       "    <tr>\n",
       "      <th>75%</th>\n",
       "      <td>1.000000</td>\n",
       "    </tr>\n",
       "    <tr>\n",
       "      <th>max</th>\n",
       "      <td>1.000000</td>\n",
       "    </tr>\n",
       "  </tbody>\n",
       "</table>\n",
       "</div>"
      ],
      "text/plain": [
       "       outcome_type\n",
       "count  79672.000000\n",
       "mean      -0.156692\n",
       "std        0.987654\n",
       "min       -1.000000\n",
       "25%       -1.000000\n",
       "50%       -1.000000\n",
       "75%        1.000000\n",
       "max        1.000000"
      ]
     },
     "execution_count": 23,
     "metadata": {},
     "output_type": "execute_result"
    }
   ],
   "source": [
    "features=['animal_type','intake_year','intake_condition','intake_number','intake_type','sex_upon_intake','age_upon_intake_(years)',\n",
    "             'time_in_shelter_days' ,'sex_upon_outcome','age_upon_outcome_(years)']\n",
    "labels=['outcome_type']\n",
    "aac_features = pd.get_dummies(aac_raw[features])\n",
    "aac_labels = aac_raw[labels]\n",
    "aac_labels.replace('Adoption',1,inplace=True)\n",
    "aac_labels[aac_labels['outcome_type']!=1]=-1\n",
    "aac_labels.describe()"
   ]
  },
  {
   "cell_type": "markdown",
   "metadata": {},
   "source": [
    "We split the data into training set and testing set with a ratio of 80% and 20 %. Since we will do randomization in later cross validation process. Here we just take the first 80% of raw dataset to training set."
   ]
  },
  {
   "cell_type": "code",
   "execution_count": 24,
   "metadata": {},
   "outputs": [],
   "source": [
    "aac_len=len(aac_features)\n",
    "train_features= aac_features[:round( 0.8 * aac_len )]\n",
    "test_features = aac_features[round( 0.8 * aac_len ):]\n",
    "train_labels= aac_labels[:round( 0.8 * aac_len )]\n",
    "test_labels= aac_labels[round( 0.8 * aac_len ):]"
   ]
  },
  {
   "cell_type": "markdown",
   "metadata": {},
   "source": [
    "Then we do the normalization. We calculate the mean and std of each column of feature in training set and use the calculated result to realize the normalization in both training and testing datasets."
   ]
  },
  {
   "cell_type": "code",
   "execution_count": 25,
   "metadata": {},
   "outputs": [
    {
     "data": {
      "text/html": [
       "<div>\n",
       "<style scoped>\n",
       "    .dataframe tbody tr th:only-of-type {\n",
       "        vertical-align: middle;\n",
       "    }\n",
       "\n",
       "    .dataframe tbody tr th {\n",
       "        vertical-align: top;\n",
       "    }\n",
       "\n",
       "    .dataframe thead th {\n",
       "        text-align: right;\n",
       "    }\n",
       "</style>\n",
       "<table border=\"1\" class=\"dataframe\">\n",
       "  <thead>\n",
       "    <tr style=\"text-align: right;\">\n",
       "      <th></th>\n",
       "      <th>intake_year</th>\n",
       "      <th>intake_number</th>\n",
       "      <th>age_upon_intake_(years)</th>\n",
       "      <th>time_in_shelter_days</th>\n",
       "      <th>age_upon_outcome_(years)</th>\n",
       "      <th>animal_type_Bird</th>\n",
       "      <th>animal_type_Cat</th>\n",
       "      <th>animal_type_Dog</th>\n",
       "      <th>animal_type_Other</th>\n",
       "      <th>intake_condition_Aged</th>\n",
       "      <th>...</th>\n",
       "      <th>sex_upon_intake_Intact Female</th>\n",
       "      <th>sex_upon_intake_Intact Male</th>\n",
       "      <th>sex_upon_intake_Neutered Male</th>\n",
       "      <th>sex_upon_intake_Spayed Female</th>\n",
       "      <th>sex_upon_intake_Unknown</th>\n",
       "      <th>sex_upon_outcome_Intact Female</th>\n",
       "      <th>sex_upon_outcome_Intact Male</th>\n",
       "      <th>sex_upon_outcome_Neutered Male</th>\n",
       "      <th>sex_upon_outcome_Spayed Female</th>\n",
       "      <th>sex_upon_outcome_Unknown</th>\n",
       "    </tr>\n",
       "  </thead>\n",
       "  <tbody>\n",
       "    <tr>\n",
       "      <th>0</th>\n",
       "      <td>1.868966</td>\n",
       "      <td>-0.288758</td>\n",
       "      <td>2.667968</td>\n",
       "      <td>-0.375085</td>\n",
       "      <td>2.648524</td>\n",
       "      <td>-0.062625</td>\n",
       "      <td>-0.7594</td>\n",
       "      <td>0.854223</td>\n",
       "      <td>-0.234674</td>\n",
       "      <td>-0.067136</td>\n",
       "      <td>...</td>\n",
       "      <td>-0.639729</td>\n",
       "      <td>-0.673232</td>\n",
       "      <td>2.230886</td>\n",
       "      <td>-0.415348</td>\n",
       "      <td>-0.301339</td>\n",
       "      <td>-0.355261</td>\n",
       "      <td>-0.365212</td>\n",
       "      <td>1.328961</td>\n",
       "      <td>-0.694631</td>\n",
       "      <td>-0.301339</td>\n",
       "    </tr>\n",
       "    <tr>\n",
       "      <th>1</th>\n",
       "      <td>-0.936882</td>\n",
       "      <td>1.765815</td>\n",
       "      <td>1.644986</td>\n",
       "      <td>-0.360098</td>\n",
       "      <td>1.628304</td>\n",
       "      <td>-0.062625</td>\n",
       "      <td>-0.7594</td>\n",
       "      <td>0.854223</td>\n",
       "      <td>-0.234674</td>\n",
       "      <td>-0.067136</td>\n",
       "      <td>...</td>\n",
       "      <td>-0.639729</td>\n",
       "      <td>-0.673232</td>\n",
       "      <td>2.230886</td>\n",
       "      <td>-0.415348</td>\n",
       "      <td>-0.301339</td>\n",
       "      <td>-0.355261</td>\n",
       "      <td>-0.365212</td>\n",
       "      <td>1.328961</td>\n",
       "      <td>-0.694631</td>\n",
       "      <td>-0.301339</td>\n",
       "    </tr>\n",
       "    <tr>\n",
       "      <th>2</th>\n",
       "      <td>-0.936882</td>\n",
       "      <td>3.820388</td>\n",
       "      <td>1.303992</td>\n",
       "      <td>-0.363353</td>\n",
       "      <td>1.288231</td>\n",
       "      <td>-0.062625</td>\n",
       "      <td>-0.7594</td>\n",
       "      <td>0.854223</td>\n",
       "      <td>-0.234674</td>\n",
       "      <td>-0.067136</td>\n",
       "      <td>...</td>\n",
       "      <td>-0.639729</td>\n",
       "      <td>-0.673232</td>\n",
       "      <td>2.230886</td>\n",
       "      <td>-0.415348</td>\n",
       "      <td>-0.301339</td>\n",
       "      <td>-0.355261</td>\n",
       "      <td>-0.365212</td>\n",
       "      <td>1.328961</td>\n",
       "      <td>-0.694631</td>\n",
       "      <td>-0.301339</td>\n",
       "    </tr>\n",
       "    <tr>\n",
       "      <th>3</th>\n",
       "      <td>-0.936882</td>\n",
       "      <td>-0.288758</td>\n",
       "      <td>2.667968</td>\n",
       "      <td>-0.277291</td>\n",
       "      <td>2.648524</td>\n",
       "      <td>-0.062625</td>\n",
       "      <td>-0.7594</td>\n",
       "      <td>0.854223</td>\n",
       "      <td>-0.234674</td>\n",
       "      <td>-0.067136</td>\n",
       "      <td>...</td>\n",
       "      <td>-0.639729</td>\n",
       "      <td>-0.673232</td>\n",
       "      <td>2.230886</td>\n",
       "      <td>-0.415348</td>\n",
       "      <td>-0.301339</td>\n",
       "      <td>-0.355261</td>\n",
       "      <td>-0.365212</td>\n",
       "      <td>1.328961</td>\n",
       "      <td>-0.694631</td>\n",
       "      <td>-0.301339</td>\n",
       "    </tr>\n",
       "    <tr>\n",
       "      <th>4</th>\n",
       "      <td>-1.872165</td>\n",
       "      <td>-0.288758</td>\n",
       "      <td>4.713934</td>\n",
       "      <td>-0.385546</td>\n",
       "      <td>4.688963</td>\n",
       "      <td>-0.062625</td>\n",
       "      <td>-0.7594</td>\n",
       "      <td>0.854223</td>\n",
       "      <td>-0.234674</td>\n",
       "      <td>-0.067136</td>\n",
       "      <td>...</td>\n",
       "      <td>-0.639729</td>\n",
       "      <td>-0.673232</td>\n",
       "      <td>2.230886</td>\n",
       "      <td>-0.415348</td>\n",
       "      <td>-0.301339</td>\n",
       "      <td>-0.355261</td>\n",
       "      <td>-0.365212</td>\n",
       "      <td>1.328961</td>\n",
       "      <td>-0.694631</td>\n",
       "      <td>-0.301339</td>\n",
       "    </tr>\n",
       "  </tbody>\n",
       "</table>\n",
       "<p>5 rows × 32 columns</p>\n",
       "</div>"
      ],
      "text/plain": [
       "   intake_year  intake_number  age_upon_intake_(years)  time_in_shelter_days  \\\n",
       "0     1.868966      -0.288758                 2.667968             -0.375085   \n",
       "1    -0.936882       1.765815                 1.644986             -0.360098   \n",
       "2    -0.936882       3.820388                 1.303992             -0.363353   \n",
       "3    -0.936882      -0.288758                 2.667968             -0.277291   \n",
       "4    -1.872165      -0.288758                 4.713934             -0.385546   \n",
       "\n",
       "   age_upon_outcome_(years)  animal_type_Bird  animal_type_Cat  \\\n",
       "0                  2.648524         -0.062625          -0.7594   \n",
       "1                  1.628304         -0.062625          -0.7594   \n",
       "2                  1.288231         -0.062625          -0.7594   \n",
       "3                  2.648524         -0.062625          -0.7594   \n",
       "4                  4.688963         -0.062625          -0.7594   \n",
       "\n",
       "   animal_type_Dog  animal_type_Other  intake_condition_Aged  \\\n",
       "0         0.854223          -0.234674              -0.067136   \n",
       "1         0.854223          -0.234674              -0.067136   \n",
       "2         0.854223          -0.234674              -0.067136   \n",
       "3         0.854223          -0.234674              -0.067136   \n",
       "4         0.854223          -0.234674              -0.067136   \n",
       "\n",
       "             ...             sex_upon_intake_Intact Female  \\\n",
       "0            ...                                 -0.639729   \n",
       "1            ...                                 -0.639729   \n",
       "2            ...                                 -0.639729   \n",
       "3            ...                                 -0.639729   \n",
       "4            ...                                 -0.639729   \n",
       "\n",
       "   sex_upon_intake_Intact Male  sex_upon_intake_Neutered Male  \\\n",
       "0                    -0.673232                       2.230886   \n",
       "1                    -0.673232                       2.230886   \n",
       "2                    -0.673232                       2.230886   \n",
       "3                    -0.673232                       2.230886   \n",
       "4                    -0.673232                       2.230886   \n",
       "\n",
       "   sex_upon_intake_Spayed Female  sex_upon_intake_Unknown  \\\n",
       "0                      -0.415348                -0.301339   \n",
       "1                      -0.415348                -0.301339   \n",
       "2                      -0.415348                -0.301339   \n",
       "3                      -0.415348                -0.301339   \n",
       "4                      -0.415348                -0.301339   \n",
       "\n",
       "   sex_upon_outcome_Intact Female  sex_upon_outcome_Intact Male  \\\n",
       "0                       -0.355261                     -0.365212   \n",
       "1                       -0.355261                     -0.365212   \n",
       "2                       -0.355261                     -0.365212   \n",
       "3                       -0.355261                     -0.365212   \n",
       "4                       -0.355261                     -0.365212   \n",
       "\n",
       "   sex_upon_outcome_Neutered Male  sex_upon_outcome_Spayed Female  \\\n",
       "0                        1.328961                       -0.694631   \n",
       "1                        1.328961                       -0.694631   \n",
       "2                        1.328961                       -0.694631   \n",
       "3                        1.328961                       -0.694631   \n",
       "4                        1.328961                       -0.694631   \n",
       "\n",
       "   sex_upon_outcome_Unknown  \n",
       "0                 -0.301339  \n",
       "1                 -0.301339  \n",
       "2                 -0.301339  \n",
       "3                 -0.301339  \n",
       "4                 -0.301339  \n",
       "\n",
       "[5 rows x 32 columns]"
      ]
     },
     "execution_count": 25,
     "metadata": {},
     "output_type": "execute_result"
    }
   ],
   "source": [
    "for temp_col in aac_features.columns:\n",
    "    temp_mean=train_features[temp_col].mean()\n",
    "    temp_std=train_features[temp_col].std()\n",
    "    train_features[temp_col]=(train_features[temp_col]-temp_mean)/temp_std\n",
    "    test_features[temp_col]=(test_features[temp_col]-temp_mean)/temp_std\n",
    "\n",
    "train_features.head()"
   ]
  },
  {
   "cell_type": "markdown",
   "metadata": {},
   "source": [
    "So far we standardize the values of each feature in the data to have mean 0 and variance 1."
   ]
  },
  {
   "cell_type": "code",
   "execution_count": null,
   "metadata": {},
   "outputs": [],
   "source": []
  },
  {
   "cell_type": "markdown",
   "metadata": {},
   "source": [
    "# **B)** "
   ]
  },
  {
   "cell_type": "markdown",
   "metadata": {},
   "source": [
    "For the threhold of 0.5, we create the logisitic regression classifier and use it to fit the training features and training labels."
   ]
  },
  {
   "cell_type": "code",
   "execution_count": 26,
   "metadata": {},
   "outputs": [
    {
     "data": {
      "text/plain": [
       "LogisticRegression(C=1.0, class_weight=None, dual=False, fit_intercept=True,\n",
       "          intercept_scaling=1, max_iter=100, multi_class='ovr', n_jobs=1,\n",
       "          penalty='l2', random_state=None, solver='lbfgs', tol=0.0001,\n",
       "          verbose=0, warm_start=False)"
      ]
     },
     "execution_count": 26,
     "metadata": {},
     "output_type": "execute_result"
    }
   ],
   "source": [
    "logistic = LogisticRegression(solver='lbfgs')\n",
    "logistic.fit(train_features, train_labels)"
   ]
  },
  {
   "cell_type": "markdown",
   "metadata": {},
   "source": [
    "Then we get the trained logistic regression classifier that has been already fit on trainin datasets, and we use it to predict the probability of testing datasets according to testing features."
   ]
  },
  {
   "cell_type": "code",
   "execution_count": 27,
   "metadata": {},
   "outputs": [
    {
     "data": {
      "text/plain": [
       "array([[2.49809565e-01, 7.50190435e-01],\n",
       "       [9.99730522e-01, 2.69478134e-04],\n",
       "       [5.48550117e-02, 9.45144988e-01],\n",
       "       ...,\n",
       "       [9.99658540e-01, 3.41460433e-04],\n",
       "       [9.09505037e-01, 9.04949633e-02],\n",
       "       [7.09951378e-01, 2.90048622e-01]])"
      ]
     },
     "execution_count": 27,
     "metadata": {},
     "output_type": "execute_result"
    }
   ],
   "source": [
    "test_pred_prob = logistic.predict_proba(test_features)\n",
    "test_pred_prob"
   ]
  },
  {
   "cell_type": "markdown",
   "metadata": {},
   "source": [
    "Since we choose threshold = 0.5, if the first value of the probability in an array (corresponding to label -1 )is larger than threshold 0.5, then we predict the row to have the label of -1, otherwise we label it as 1.\n",
    "After that we get the predicted testing label in a copied dataframe according to the  related probability."
   ]
  },
  {
   "cell_type": "code",
   "execution_count": 28,
   "metadata": {},
   "outputs": [
    {
     "data": {
      "text/html": [
       "<div>\n",
       "<style scoped>\n",
       "    .dataframe tbody tr th:only-of-type {\n",
       "        vertical-align: middle;\n",
       "    }\n",
       "\n",
       "    .dataframe tbody tr th {\n",
       "        vertical-align: top;\n",
       "    }\n",
       "\n",
       "    .dataframe thead th {\n",
       "        text-align: right;\n",
       "    }\n",
       "</style>\n",
       "<table border=\"1\" class=\"dataframe\">\n",
       "  <thead>\n",
       "    <tr style=\"text-align: right;\">\n",
       "      <th></th>\n",
       "      <th>outcome_type</th>\n",
       "    </tr>\n",
       "  </thead>\n",
       "  <tbody>\n",
       "    <tr>\n",
       "      <th>63738</th>\n",
       "      <td>1</td>\n",
       "    </tr>\n",
       "    <tr>\n",
       "      <th>63739</th>\n",
       "      <td>-1</td>\n",
       "    </tr>\n",
       "    <tr>\n",
       "      <th>63740</th>\n",
       "      <td>1</td>\n",
       "    </tr>\n",
       "    <tr>\n",
       "      <th>63741</th>\n",
       "      <td>-1</td>\n",
       "    </tr>\n",
       "    <tr>\n",
       "      <th>63742</th>\n",
       "      <td>1</td>\n",
       "    </tr>\n",
       "  </tbody>\n",
       "</table>\n",
       "</div>"
      ],
      "text/plain": [
       "       outcome_type\n",
       "63738             1\n",
       "63739            -1\n",
       "63740             1\n",
       "63741            -1\n",
       "63742             1"
      ]
     },
     "execution_count": 28,
     "metadata": {},
     "output_type": "execute_result"
    }
   ],
   "source": [
    "test_pred=test_labels.copy()\n",
    "for i in range(len(test_pred)):\n",
    "    if test_pred_prob[i][0]>0.5: test_pred.values[i]=-1\n",
    "    else: test_pred.values[i]=1\n",
    "test_pred.head()"
   ]
  },
  {
   "cell_type": "markdown",
   "metadata": {},
   "source": [
    "We can compare the predicted testing labels and real testing labels and calculate coresponding metrics (accuracy, precisoin, recall and f1 score). We calculate the metrics from mathematical defination. Numbers of true positive, true negative , false positive and false negative are got from the comparision between 2 labels. Then the number of 4 values are used to get the 4 metrics according to the formular in lectures. In this case of threshold 0.5, we maunually print the values of 4 metrics. "
   ]
  },
  {
   "cell_type": "code",
   "execution_count": 29,
   "metadata": {},
   "outputs": [
    {
     "name": "stdout",
     "output_type": "stream",
     "text": [
      "accuray : 0.8513869712564328\n",
      "precision : 0.8311843679383225\n",
      "recall : 0.8506325669976874\n",
      "f1 score : 0.8407960199004976\n"
     ]
    }
   ],
   "source": [
    "num_test=len(test_labels)\n",
    "test_TP=0\n",
    "test_TN=0\n",
    "test_FP=0\n",
    "test_FN=0\n",
    "for i in range(num_test):\n",
    "    if test_labels.values[i]==1 and test_pred.values[i]==1 : test_TP=test_TP+1\n",
    "    if test_labels.values[i]==-1 and test_pred.values[i]==-1 : test_TN=test_TN+1\n",
    "    if test_labels.values[i]==1 and test_pred.values[i]==-1 : test_FN=test_FN+1\n",
    "    if test_labels.values[i]==-1 and test_pred.values[i]==1 : test_FP=test_FP+1\n",
    "accuracy=(test_TP + test_TN)/num_test\n",
    "precision=(test_TP)/(test_TP + test_FP)\n",
    "recall=(test_TP)/(test_TP + test_FN)\n",
    "f1_score=2*precision*recall/(recall+precision)\n",
    "print ('accuray : '+str(accuracy))\n",
    "print ('precision : '+str(precision))\n",
    "print ('recall : '+str(recall))\n",
    "print ('f1 score : '+str(f1_score))\n"
   ]
  },
  {
   "cell_type": "markdown",
   "metadata": {},
   "source": [
    "We use function pandas.crosstab to compare the labels of predicted testing labels and true testing labels and then get the confusion matrix."
   ]
  },
  {
   "cell_type": "code",
   "execution_count": 30,
   "metadata": {},
   "outputs": [
    {
     "data": {
      "text/html": [
       "<div>\n",
       "<style scoped>\n",
       "    .dataframe tbody tr th:only-of-type {\n",
       "        vertical-align: middle;\n",
       "    }\n",
       "\n",
       "    .dataframe tbody tr th {\n",
       "        vertical-align: top;\n",
       "    }\n",
       "\n",
       "    .dataframe thead th {\n",
       "        text-align: right;\n",
       "    }\n",
       "</style>\n",
       "<table border=\"1\" class=\"dataframe\">\n",
       "  <thead>\n",
       "    <tr style=\"text-align: right;\">\n",
       "      <th>predicted labels</th>\n",
       "      <th>-1</th>\n",
       "      <th>1</th>\n",
       "    </tr>\n",
       "    <tr>\n",
       "      <th>true labels</th>\n",
       "      <th></th>\n",
       "      <th></th>\n",
       "    </tr>\n",
       "  </thead>\n",
       "  <tbody>\n",
       "    <tr>\n",
       "      <th>-1</th>\n",
       "      <td>7313</td>\n",
       "      <td>1270</td>\n",
       "    </tr>\n",
       "    <tr>\n",
       "      <th>1</th>\n",
       "      <td>1098</td>\n",
       "      <td>6253</td>\n",
       "    </tr>\n",
       "  </tbody>\n",
       "</table>\n",
       "</div>"
      ],
      "text/plain": [
       "predicted labels    -1     1\n",
       "true labels                 \n",
       "-1                7313  1270\n",
       " 1                1098  6253"
      ]
     },
     "execution_count": 30,
     "metadata": {},
     "output_type": "execute_result"
    }
   ],
   "source": [
    "a=pd.Series(test_labels['outcome_type'].copy(),name='true labels')\n",
    "b=pd.Series(test_pred['outcome_type'].copy(),name='predicted labels')\n",
    "test_confusion=pd.crosstab(a,b)\n",
    "test_confusion"
   ]
  },
  {
   "cell_type": "markdown",
   "metadata": {},
   "source": [
    "(In this case it's easier to get the confusion matrix first and then calculate the 4 metrics. However, in later parameter tuning prccess, we will use the counting process and calculation above to get the metrics directly. )"
   ]
  },
  {
   "cell_type": "markdown",
   "metadata": {},
   "source": [
    "Now we shall tune the value of threshold, we choose the range(0.05,1.0,0.05) as the range of threshold.  To save computation time, we do not choose a wider range with more possible threshold values. In order to get the accurate optimal threshold, the method is totally same in our code, we can just create more possible threshold values."
   ]
  },
  {
   "cell_type": "markdown",
   "metadata": {},
   "source": [
    "First, we create a dataframe corresponding to each possible threshold value in the range, and set the values of 4 metrics to 0 in initialization. Then for each potential threshold value in the range, we use the same procedure above to calculate the corresponding 4 metric values directly and fill the values into the dataframe related to temporary threshold value."
   ]
  },
  {
   "cell_type": "code",
   "execution_count": 31,
   "metadata": {},
   "outputs": [
    {
     "data": {
      "text/html": [
       "<div>\n",
       "<style scoped>\n",
       "    .dataframe tbody tr th:only-of-type {\n",
       "        vertical-align: middle;\n",
       "    }\n",
       "\n",
       "    .dataframe tbody tr th {\n",
       "        vertical-align: top;\n",
       "    }\n",
       "\n",
       "    .dataframe thead th {\n",
       "        text-align: right;\n",
       "    }\n",
       "</style>\n",
       "<table border=\"1\" class=\"dataframe\">\n",
       "  <thead>\n",
       "    <tr style=\"text-align: right;\">\n",
       "      <th></th>\n",
       "      <th>threshold</th>\n",
       "      <th>accuracy</th>\n",
       "      <th>precision</th>\n",
       "      <th>recall</th>\n",
       "      <th>f1 score</th>\n",
       "    </tr>\n",
       "  </thead>\n",
       "  <tbody>\n",
       "    <tr>\n",
       "      <th>0</th>\n",
       "      <td>0.05</td>\n",
       "      <td>0.551588</td>\n",
       "      <td>0.940171</td>\n",
       "      <td>0.029928</td>\n",
       "      <td>0.058009</td>\n",
       "    </tr>\n",
       "    <tr>\n",
       "      <th>1</th>\n",
       "      <td>0.10</td>\n",
       "      <td>0.588051</td>\n",
       "      <td>0.931943</td>\n",
       "      <td>0.115494</td>\n",
       "      <td>0.205519</td>\n",
       "    </tr>\n",
       "    <tr>\n",
       "      <th>2</th>\n",
       "      <td>0.15</td>\n",
       "      <td>0.649868</td>\n",
       "      <td>0.912861</td>\n",
       "      <td>0.266494</td>\n",
       "      <td>0.412551</td>\n",
       "    </tr>\n",
       "    <tr>\n",
       "      <th>3</th>\n",
       "      <td>0.20</td>\n",
       "      <td>0.693799</td>\n",
       "      <td>0.904980</td>\n",
       "      <td>0.375731</td>\n",
       "      <td>0.531001</td>\n",
       "    </tr>\n",
       "    <tr>\n",
       "      <th>4</th>\n",
       "      <td>0.25</td>\n",
       "      <td>0.791138</td>\n",
       "      <td>0.874930</td>\n",
       "      <td>0.638553</td>\n",
       "      <td>0.738282</td>\n",
       "    </tr>\n",
       "    <tr>\n",
       "      <th>5</th>\n",
       "      <td>0.30</td>\n",
       "      <td>0.812163</td>\n",
       "      <td>0.854540</td>\n",
       "      <td>0.714461</td>\n",
       "      <td>0.778247</td>\n",
       "    </tr>\n",
       "    <tr>\n",
       "      <th>6</th>\n",
       "      <td>0.35</td>\n",
       "      <td>0.824087</td>\n",
       "      <td>0.847706</td>\n",
       "      <td>0.754183</td>\n",
       "      <td>0.798215</td>\n",
       "    </tr>\n",
       "    <tr>\n",
       "      <th>7</th>\n",
       "      <td>0.40</td>\n",
       "      <td>0.838521</td>\n",
       "      <td>0.840993</td>\n",
       "      <td>0.801524</td>\n",
       "      <td>0.820784</td>\n",
       "    </tr>\n",
       "    <tr>\n",
       "      <th>8</th>\n",
       "      <td>0.45</td>\n",
       "      <td>0.846555</td>\n",
       "      <td>0.835843</td>\n",
       "      <td>0.830499</td>\n",
       "      <td>0.833163</td>\n",
       "    </tr>\n",
       "    <tr>\n",
       "      <th>9</th>\n",
       "      <td>0.50</td>\n",
       "      <td>0.851387</td>\n",
       "      <td>0.831184</td>\n",
       "      <td>0.850633</td>\n",
       "      <td>0.840796</td>\n",
       "    </tr>\n",
       "    <tr>\n",
       "      <th>10</th>\n",
       "      <td>0.55</td>\n",
       "      <td>0.856282</td>\n",
       "      <td>0.824714</td>\n",
       "      <td>0.874303</td>\n",
       "      <td>0.848785</td>\n",
       "    </tr>\n",
       "    <tr>\n",
       "      <th>11</th>\n",
       "      <td>0.60</td>\n",
       "      <td>0.853960</td>\n",
       "      <td>0.803162</td>\n",
       "      <td>0.905319</td>\n",
       "      <td>0.851186</td>\n",
       "    </tr>\n",
       "    <tr>\n",
       "      <th>12</th>\n",
       "      <td>0.65</td>\n",
       "      <td>0.838145</td>\n",
       "      <td>0.771383</td>\n",
       "      <td>0.922596</td>\n",
       "      <td>0.840240</td>\n",
       "    </tr>\n",
       "    <tr>\n",
       "      <th>13</th>\n",
       "      <td>0.70</td>\n",
       "      <td>0.827225</td>\n",
       "      <td>0.751367</td>\n",
       "      <td>0.934839</td>\n",
       "      <td>0.833121</td>\n",
       "    </tr>\n",
       "    <tr>\n",
       "      <th>14</th>\n",
       "      <td>0.75</td>\n",
       "      <td>0.818439</td>\n",
       "      <td>0.736976</td>\n",
       "      <td>0.943001</td>\n",
       "      <td>0.827356</td>\n",
       "    </tr>\n",
       "    <tr>\n",
       "      <th>15</th>\n",
       "      <td>0.80</td>\n",
       "      <td>0.809527</td>\n",
       "      <td>0.723164</td>\n",
       "      <td>0.951299</td>\n",
       "      <td>0.821691</td>\n",
       "    </tr>\n",
       "    <tr>\n",
       "      <th>16</th>\n",
       "      <td>0.85</td>\n",
       "      <td>0.794025</td>\n",
       "      <td>0.702821</td>\n",
       "      <td>0.959053</td>\n",
       "      <td>0.811184</td>\n",
       "    </tr>\n",
       "    <tr>\n",
       "      <th>17</th>\n",
       "      <td>0.90</td>\n",
       "      <td>0.739425</td>\n",
       "      <td>0.643132</td>\n",
       "      <td>0.977690</td>\n",
       "      <td>0.775883</td>\n",
       "    </tr>\n",
       "    <tr>\n",
       "      <th>18</th>\n",
       "      <td>0.95</td>\n",
       "      <td>0.602109</td>\n",
       "      <td>0.537057</td>\n",
       "      <td>0.996599</td>\n",
       "      <td>0.697980</td>\n",
       "    </tr>\n",
       "  </tbody>\n",
       "</table>\n",
       "</div>"
      ],
      "text/plain": [
       "    threshold  accuracy  precision    recall  f1 score\n",
       "0        0.05  0.551588   0.940171  0.029928  0.058009\n",
       "1        0.10  0.588051   0.931943  0.115494  0.205519\n",
       "2        0.15  0.649868   0.912861  0.266494  0.412551\n",
       "3        0.20  0.693799   0.904980  0.375731  0.531001\n",
       "4        0.25  0.791138   0.874930  0.638553  0.738282\n",
       "5        0.30  0.812163   0.854540  0.714461  0.778247\n",
       "6        0.35  0.824087   0.847706  0.754183  0.798215\n",
       "7        0.40  0.838521   0.840993  0.801524  0.820784\n",
       "8        0.45  0.846555   0.835843  0.830499  0.833163\n",
       "9        0.50  0.851387   0.831184  0.850633  0.840796\n",
       "10       0.55  0.856282   0.824714  0.874303  0.848785\n",
       "11       0.60  0.853960   0.803162  0.905319  0.851186\n",
       "12       0.65  0.838145   0.771383  0.922596  0.840240\n",
       "13       0.70  0.827225   0.751367  0.934839  0.833121\n",
       "14       0.75  0.818439   0.736976  0.943001  0.827356\n",
       "15       0.80  0.809527   0.723164  0.951299  0.821691\n",
       "16       0.85  0.794025   0.702821  0.959053  0.811184\n",
       "17       0.90  0.739425   0.643132  0.977690  0.775883\n",
       "18       0.95  0.602109   0.537057  0.996599  0.697980"
      ]
     },
     "execution_count": 31,
     "metadata": {},
     "output_type": "execute_result"
    }
   ],
   "source": [
    "threshold_tuning=pd.DataFrame({'threshold':np.arange(0.05,1,0.05)})\n",
    "threshold_tuning['accuracy']=0.0\n",
    "threshold_tuning['precision']=0.0\n",
    "threshold_tuning['recall']=0.0\n",
    "threshold_tuning['f1 score']=0.0\n",
    "for i in range(19):\n",
    "    temp_thres=threshold_tuning['threshold'][i]\n",
    "    \n",
    "    temp_pred=test_labels.copy()\n",
    "    for j in range(len(test_labels)):\n",
    "        if test_pred_prob[j][0]>temp_thres: temp_pred.values[j]=-1\n",
    "        else: temp_pred.values[j]=1\n",
    "    \n",
    "\n",
    "    num_test=len(test_labels)\n",
    "    temp_TP=0\n",
    "    temp_TN=0\n",
    "    temp_FP=0\n",
    "    temp_FN=0\n",
    "    for j in range(num_test):\n",
    "        if test_labels.values[j]==1 and temp_pred.values[j]==1 : temp_TP=temp_TP+1\n",
    "        if test_labels.values[j]==-1 and temp_pred.values[j]==-1 : temp_TN=temp_TN+1\n",
    "        if test_labels.values[j]==1 and temp_pred.values[j]==-1 : temp_FN=temp_FN+1\n",
    "        if test_labels.values[j]==-1 and temp_pred.values[j]==1 : temp_FP=temp_FP+1\n",
    "    temp_accuracy=(temp_TP + temp_TN)/num_test\n",
    "    temp_precision=(temp_TP)/(temp_TP + temp_FP)\n",
    "    temp_recall=(temp_TP)/(temp_TP + temp_FN)\n",
    "    temp_f1_score=2* temp_precision* temp_recall/(temp_recall + temp_precision)\n",
    "    threshold_tuning['accuracy'][i]=temp_accuracy\n",
    "    threshold_tuning['precision'][i]=temp_precision\n",
    "    threshold_tuning['recall'][i]=temp_recall\n",
    "    threshold_tuning['f1 score'][i]=temp_f1_score\n",
    "threshold_tuning\n",
    "    "
   ]
  },
  {
   "cell_type": "markdown",
   "metadata": {},
   "source": [
    "Here we get the dataframe of several threshold values and their corresponding metric values. We can observe from numbers that a threshold of  around 0.55 is the best among the potential values, especially in accuracy and f1 score."
   ]
  },
  {
   "cell_type": "code",
   "execution_count": 32,
   "metadata": {},
   "outputs": [
    {
     "data": {
      "image/png": "[encoded data removed]",
      "text/plain": [
       "<Figure size 432x288 with 1 Axes>"
      ]
     },
     "metadata": {},
     "output_type": "display_data"
    }
   ],
   "source": [
    "plt.plot( threshold_tuning['threshold'],threshold_tuning['accuracy'])\n",
    "plt.legend()\n",
    "plt.plot( threshold_tuning['threshold'],threshold_tuning['precision'])\n",
    "plt.legend()\n",
    "plt.plot( threshold_tuning['threshold'],threshold_tuning['recall'])\n",
    "plt.legend()\n",
    "plt.plot( threshold_tuning['threshold'],threshold_tuning['f1 score'])\n",
    "plt.legend()\n",
    "plt.xlabel('threshold')\n",
    "plt.show()"
   ]
  },
  {
   "cell_type": "markdown",
   "metadata": {},
   "source": [
    "We visualize the change of metrics with threshold in a plot. Obviously we wish get the peak of all 4 metrics but sometimes it may be contradictory. In the plot we can see accuracy and f1 score get its maximum value around threshold of 0.5, but the precision and recall change monotonically as threshold grows. It may be because with the increase of threshold, there tends to be more FP and less FN according to their defination, which leads to the situation. Thus acuuracy and f1 score may contain more performance information, so we think threshold of 0.55 is the best value for training sets among the range we choose, but it may be due to the distribution of training sets and perhaps lead to overfitting."
   ]
  },
  {
   "cell_type": "markdown",
   "metadata": {},
   "source": [
    "# C) "
   ]
  },
  {
   "cell_type": "markdown",
   "metadata": {},
   "source": [
    "Firstly, in this task we still need to calculate the metrics of features seleted for training. To make code more readable, we define the get_score function to get the metrics of model. The input includes the predicted probablity of a model after fitting the training features and labels, true testing labels and tuned threshold (in this task we just set it as 0.5)."
   ]
  },
  {
   "cell_type": "code",
   "execution_count": 29,
   "metadata": {},
   "outputs": [],
   "source": [
    "def get_score(pred_prob,labels,threshold):\n",
    "    pred=labels.copy()\n",
    "    for i in range(len(labels)):\n",
    "        if pred_prob[i][0]>threshold: pred[i]=-1\n",
    "        else: pred[i]=1    \n",
    "    TP=0\n",
    "    TN=0\n",
    "    FP=0\n",
    "    FN=0\n",
    "    for i in range(len(labels)):\n",
    "        if labels[i]==1 and pred[i]==1 : TP=TP+1\n",
    "        if labels[i]==-1 and pred[i]==-1 : TN=TN+1\n",
    "        if labels[i]==1 and pred[i]==-1 : FN=FN+1\n",
    "        if labels[i]==-1 and pred[i]==1 : FP=FP+1\n",
    "            \n",
    "    accuracy=(TP + TN)/len(labels)\n",
    "    if TP+FP!=0: precision=(TP)/(TP + FP)\n",
    "    else: precision=0\n",
    "    if TP+FN!=0: recall=(TP)/(TP + FN)\n",
    "    else: recall=0\n",
    "    if recall+precision!=0: f1_score=2* precision* recall/(recall + precision)\n",
    "    else: f1_score=0\n",
    "    return accuracy, precision, recall, f1_score\n",
    "    "
   ]
  },
  {
   "cell_type": "markdown",
   "metadata": {},
   "source": [
    "Secondly, for later manually created cross validation, we prepare it for a function of data split index, build_k_indices. Among the inputs, y is the data we will split in later cross validation, the k_folder is the number we want to divide our dataset with (in the task k_folder is just 5) and seed is random number. We use np.random.seed to randomize the index in input dataset and use k_indices to split the randomized data into k_folder divisions."
   ]
  },
  {
   "cell_type": "code",
   "execution_count": 30,
   "metadata": {},
   "outputs": [],
   "source": [
    "def build_k_indices(y, k_fold, seed):\n",
    "    \"\"\"build k indices for k-fold.\"\"\"\n",
    "    num_row = y.shape[0]\n",
    "    interval = int(num_row / k_fold)\n",
    "    np.random.seed(seed)\n",
    "    indices = np.random.permutation(num_row)\n",
    "    k_indices = [indices[k * interval: (k + 1) * interval] for k in range(k_fold)]\n",
    "    return np.array(k_indices)"
   ]
  },
  {
   "cell_type": "markdown",
   "metadata": {},
   "source": [
    "After getting the data split index in build_k_indices. We define score_cv_lr_5 function to get the metric of selected features training compared with true labels with the method of training logistic regression classifier with 5-cross-validation. The function creates 5 temporary training sets and testing sets in a cycle according to defination of cross validation. For each temporary training sets, the function uses the logistic regression classifier to train with chosen features and verify the model in temporary testing sets by creating probabilities for temporary testing sets.  The output of score_cv_lr_5 is given by the metrics calculated from get_score function, and it outputs the mean accuracy in 5-cross-validation as the score (as stated in 2B)."
   ]
  },
  {
   "cell_type": "code",
   "execution_count": 37,
   "metadata": {},
   "outputs": [],
   "source": [
    "def score_cv_lr_5(features,labels):\n",
    "    score_sum=np.array([0,0,0,0])\n",
    "    k_indices=build_k_indices(labels,5,10)\n",
    "    for k in range(5):\n",
    "        \n",
    "        temp_test_indice = k_indices[k]\n",
    "        temp_train_indice = k_indices[~(np.arange(k_indices.shape[0]) == k)]\n",
    "        temp_train_indice = temp_train_indice.reshape(-1)\n",
    "        temp_train_features= features.values[temp_train_indice]\n",
    "        temp_train_labels=labels.values[temp_train_indice]\n",
    "        temp_test_features=features.values[temp_test_indice] \n",
    "        temp_test_labels=labels.values[temp_test_indice]\n",
    "        \n",
    "        logistic = LogisticRegression()\n",
    "        logistic.fit(temp_train_features, temp_train_labels)\n",
    "        pred_prob = logistic.predict_proba(temp_test_features)        \n",
    "        \n",
    "        temp_score=np.array(get_score(pred_prob, temp_test_labels, 0.5) )\n",
    "        score_sum=score_sum+temp_score\n",
    "    return score_sum/5\n",
    "        "
   ]
  },
  {
   "cell_type": "markdown",
   "metadata": {},
   "source": [
    "Upon finishing defining the functions above, we use greedy backward selection to iteratively remove features one by one. Our code creates a dataframe features_select with each potential feature of 32 in each row and its corresponding accuracy, which is initialized as 0.0. A list remove_feature is also defined and initialized empty. Then our code use the remove_feature to restore the removed features in each iteration. From the iteration 1 to 32, we choose each of the features remained in the dataframe, and combine the temporary single feature with the removed feature in the remove_feature to form a combination of temp_train_feature. After fitting them with training labels by logistic regression classifier, we can get the accuracy (chosen as main metric) of each remained single feature combined with the features already moved in remove_feature. Our code sort the dataframe by accuracy value on ascending order. Then we can remove the one feature with the smallest accuracy value, which is to say, that feature contribute least to the prediction combined with features already removed. And the dataframe updates itself by deleting the first row (corresponding to the feature decided to be removed in this iteration). That feature is also added to remove_feature to the next iteration. The iteration is not over until the dataframe features_select has the last one feature.The code approach complies to defination of greedy backward selection to remove features one by one. "
   ]
  },
  {
   "cell_type": "code",
   "execution_count": 36,
   "metadata": {},
   "outputs": [
    {
     "data": {
      "text/plain": [
       "['intake_number',\n",
       " 'animal_type_Dog',\n",
       " 'sex_upon_intake_Intact Male',\n",
       " 'intake_condition_Pregnant',\n",
       " 'animal_type_Bird',\n",
       " 'intake_condition_Feral',\n",
       " 'intake_type_Stray',\n",
       " 'sex_upon_intake_Spayed Female',\n",
       " 'sex_upon_intake_Unknown',\n",
       " 'sex_upon_outcome_Unknown',\n",
       " 'intake_condition_Other',\n",
       " 'intake_condition_Aged',\n",
       " 'intake_type_Euthanasia Request',\n",
       " 'intake_condition_Nursing',\n",
       " 'intake_type_Wildlife',\n",
       " 'animal_type_Cat',\n",
       " 'animal_type_Other',\n",
       " 'intake_condition_Injured',\n",
       " 'intake_condition_Normal',\n",
       " 'intake_condition_Sick',\n",
       " 'intake_year',\n",
       " 'sex_upon_intake_Neutered Male',\n",
       " 'sex_upon_intake_Intact Female',\n",
       " 'age_upon_outcome_(years)',\n",
       " 'age_upon_intake_(years)',\n",
       " 'intake_type_Public Assist',\n",
       " 'intake_type_Owner Surrender',\n",
       " 'sex_upon_outcome_Spayed Female',\n",
       " 'sex_upon_outcome_Intact Female',\n",
       " 'time_in_shelter_days',\n",
       " 'sex_upon_outcome_Intact Male',\n",
       " 'sex_upon_outcome_Neutered Male']"
      ]
     },
     "execution_count": 36,
     "metadata": {},
     "output_type": "execute_result"
    }
   ],
   "source": [
    "features_select = pd.DataFrame({'feature':np.array(train_features.columns),'accuracy':0.0})\n",
    "temp_features_select=features_select.copy()\n",
    "remove_feature=[]\n",
    "while len(temp_features_select)>0:\n",
    "    \n",
    "    for i in range(len(temp_features_select)):\n",
    "        temp_feature=temp_features_select['feature'].values[i]\n",
    "        temp_train_feature=remove_feature+ [temp_feature]\n",
    "        temp_score=score_cv_lr_5(train_features[temp_train_feature],train_labels)\n",
    "        temp_features_select['accuracy'].values[i]= temp_score[0]\n",
    "    temp_features_select=temp_features_select[['feature','accuracy']].sort_values(ascending=True, by='accuracy')\n",
    "    temp_features_select.reset_index(inplace=True)\n",
    "    temp_features_select=temp_features_select[['feature','accuracy']]\n",
    "    temp_remove_feature=temp_features_select['feature'].values[0]\n",
    "    k=len(temp_features_select)\n",
    "    features_select['feature'].values[32-k]= temp_remove_feature\n",
    "    remove_feature=remove_feature + [temp_remove_feature]\n",
    "    temp_features_select=temp_features_select[1:]\n",
    "    temp_features_select.reset_index(inplace=True)\n",
    "    temp_features_select=temp_features_select[['feature','accuracy']]\n",
    "remove_feature\n",
    "\n"
   ]
  },
  {
   "cell_type": "markdown",
   "metadata": {},
   "source": [
    "The output of remove_feature above illustrates the order of the removal of features by greedy backward selection."
   ]
  },
  {
   "cell_type": "markdown",
   "metadata": {},
   "source": [
    "To verify the performance of removed features, we evaluate the subset of k features selection. The selection features array is in the inverse direction of removed feature array remove_feature. So we define select_feature as the inverse array of remove_feature to represent the first k feature selelction, e.g. when k=5, we remove the first 27 features by order in remove_feature and leave only the last 5 best features, which are the first 5 features in select_feature."
   ]
  },
  {
   "cell_type": "code",
   "execution_count": 34,
   "metadata": {},
   "outputs": [
    {
     "data": {
      "text/plain": [
       "['sex_upon_outcome_Neutered Male',\n",
       " 'sex_upon_outcome_Intact Male',\n",
       " 'time_in_shelter_days',\n",
       " 'sex_upon_outcome_Intact Female',\n",
       " 'sex_upon_outcome_Spayed Female',\n",
       " 'intake_type_Owner Surrender',\n",
       " 'intake_type_Public Assist',\n",
       " 'age_upon_intake_(years)',\n",
       " 'age_upon_outcome_(years)',\n",
       " 'sex_upon_intake_Intact Female',\n",
       " 'sex_upon_intake_Neutered Male',\n",
       " 'intake_year',\n",
       " 'intake_condition_Sick',\n",
       " 'intake_condition_Normal',\n",
       " 'intake_condition_Injured',\n",
       " 'animal_type_Other',\n",
       " 'animal_type_Cat',\n",
       " 'intake_type_Wildlife',\n",
       " 'intake_condition_Nursing',\n",
       " 'intake_type_Euthanasia Request',\n",
       " 'intake_condition_Aged',\n",
       " 'intake_condition_Other',\n",
       " 'sex_upon_outcome_Unknown',\n",
       " 'sex_upon_intake_Unknown',\n",
       " 'sex_upon_intake_Spayed Female',\n",
       " 'intake_type_Stray',\n",
       " 'intake_condition_Feral',\n",
       " 'animal_type_Bird',\n",
       " 'intake_condition_Pregnant',\n",
       " 'sex_upon_intake_Intact Male',\n",
       " 'animal_type_Dog',\n",
       " 'intake_number']"
      ]
     },
     "execution_count": 34,
     "metadata": {},
     "output_type": "execute_result"
    }
   ],
   "source": [
    "select_feature=remove_feature[::-1]\n",
    "select_feature"
   ]
  },
  {
   "cell_type": "markdown",
   "metadata": {},
   "source": [
    "# Choose the best k subset of features by 5-cross-validation in training set."
   ]
  },
  {
   "cell_type": "markdown",
   "metadata": {},
   "source": [
    "Now the task require of comparison of feature numbers of 1,5,10,15,20,25,30. We create a pandas dataframe train_features_score for this with 4 corresponding metrics values in initialization. For each potential feature number in the range, we select the first subset of features in select_feature as temporary selected features for training (temp_train_features_select) and use the logistic regression classifier to train the chosen features in training features with 5-cross-validation (previously defined score_cv_lr_5 function). We can get the 4 metircs (according to defined get_score function) for temporary selected features in 5-cross-validation and fill the values in the corresponding row in dataframe train_features_score."
   ]
  },
  {
   "cell_type": "code",
   "execution_count": 39,
   "metadata": {},
   "outputs": [
    {
     "data": {
      "text/html": [
       "<div>\n",
       "<style scoped>\n",
       "    .dataframe tbody tr th:only-of-type {\n",
       "        vertical-align: middle;\n",
       "    }\n",
       "\n",
       "    .dataframe tbody tr th {\n",
       "        vertical-align: top;\n",
       "    }\n",
       "\n",
       "    .dataframe thead th {\n",
       "        text-align: right;\n",
       "    }\n",
       "</style>\n",
       "<table border=\"1\" class=\"dataframe\">\n",
       "  <thead>\n",
       "    <tr style=\"text-align: right;\">\n",
       "      <th></th>\n",
       "      <th>feature_number</th>\n",
       "      <th>accuracy</th>\n",
       "      <th>precision</th>\n",
       "      <th>recall</th>\n",
       "      <th>f1_score</th>\n",
       "    </tr>\n",
       "  </thead>\n",
       "  <tbody>\n",
       "    <tr>\n",
       "      <th>0</th>\n",
       "      <td>1</td>\n",
       "      <td>0.624445</td>\n",
       "      <td>0.549997</td>\n",
       "      <td>0.482915</td>\n",
       "      <td>0.514243</td>\n",
       "    </tr>\n",
       "    <tr>\n",
       "      <th>1</th>\n",
       "      <td>5</td>\n",
       "      <td>0.766549</td>\n",
       "      <td>0.714303</td>\n",
       "      <td>0.721991</td>\n",
       "      <td>0.717870</td>\n",
       "    </tr>\n",
       "    <tr>\n",
       "      <th>2</th>\n",
       "      <td>10</td>\n",
       "      <td>0.810952</td>\n",
       "      <td>0.753011</td>\n",
       "      <td>0.804954</td>\n",
       "      <td>0.778058</td>\n",
       "    </tr>\n",
       "    <tr>\n",
       "      <th>3</th>\n",
       "      <td>15</td>\n",
       "      <td>0.813117</td>\n",
       "      <td>0.756662</td>\n",
       "      <td>0.805072</td>\n",
       "      <td>0.780067</td>\n",
       "    </tr>\n",
       "    <tr>\n",
       "      <th>4</th>\n",
       "      <td>20</td>\n",
       "      <td>0.813415</td>\n",
       "      <td>0.757338</td>\n",
       "      <td>0.804721</td>\n",
       "      <td>0.780266</td>\n",
       "    </tr>\n",
       "    <tr>\n",
       "      <th>5</th>\n",
       "      <td>25</td>\n",
       "      <td>0.813399</td>\n",
       "      <td>0.757372</td>\n",
       "      <td>0.804610</td>\n",
       "      <td>0.780230</td>\n",
       "    </tr>\n",
       "    <tr>\n",
       "      <th>6</th>\n",
       "      <td>30</td>\n",
       "      <td>0.813384</td>\n",
       "      <td>0.756887</td>\n",
       "      <td>0.805570</td>\n",
       "      <td>0.780420</td>\n",
       "    </tr>\n",
       "    <tr>\n",
       "      <th>7</th>\n",
       "      <td>32</td>\n",
       "      <td>0.813744</td>\n",
       "      <td>0.757360</td>\n",
       "      <td>0.805867</td>\n",
       "      <td>0.780815</td>\n",
       "    </tr>\n",
       "  </tbody>\n",
       "</table>\n",
       "</div>"
      ],
      "text/plain": [
       "   feature_number  accuracy  precision    recall  f1_score\n",
       "0               1  0.624445   0.549997  0.482915  0.514243\n",
       "1               5  0.766549   0.714303  0.721991  0.717870\n",
       "2              10  0.810952   0.753011  0.804954  0.778058\n",
       "3              15  0.813117   0.756662  0.805072  0.780067\n",
       "4              20  0.813415   0.757338  0.804721  0.780266\n",
       "5              25  0.813399   0.757372  0.804610  0.780230\n",
       "6              30  0.813384   0.756887  0.805570  0.780420\n",
       "7              32  0.813744   0.757360  0.805867  0.780815"
      ]
     },
     "execution_count": 39,
     "metadata": {},
     "output_type": "execute_result"
    }
   ],
   "source": [
    "train_features_score = pd.DataFrame({'feature_number':[1,5,10,15,20,25,30,32] , 'accuracy':0.0 , 'precision':0.0 , 'recall':0.0 , 'f1_score':0.0})\n",
    "k_indices=build_k_indices(train_labels,5,10)\n",
    "j=0\n",
    "for i in [1,5,10,15,20,25,30,32]:\n",
    "    temp_train_feature_select = select_feature[:i+1]\n",
    "    temp_score=score_cv_lr_5(train_features[temp_train_feature_select],train_labels)\n",
    "    train_features_score['accuracy'].values[j]=temp_score[0]\n",
    "    train_features_score['precision'].values[j]=temp_score[1]\n",
    "    train_features_score['recall'].values[j]=temp_score[2]\n",
    "    train_features_score['f1_score'].values[j]=temp_score[3]\n",
    "    j=j+1\n",
    "train_features_score\n",
    "\n",
    "    "
   ]
  },
  {
   "cell_type": "markdown",
   "metadata": {},
   "source": [
    "According to created dataframe, we get the metrics corresponding to different feauture numbers in the task range. We can observe from the digits that feature number of 20 leads to an optimal value of accuracy and f1 score and obviously better than those of training all 32 features without selection. Also feature number of 15 has a very slight decrease in accuracy and have 5 less features, and feature of 1,5 or 10 lead to a much weaker performance. We can also get the plot of metric below."
   ]
  },
  {
   "cell_type": "code",
   "execution_count": 40,
   "metadata": {},
   "outputs": [
    {
     "data": {
      "image/png": "[encoded data removed]",
      "text/plain": [
       "<Figure size 432x288 with 1 Axes>"
      ]
     },
     "metadata": {},
     "output_type": "display_data"
    }
   ],
   "source": [
    "plt.plot( train_features_score['feature_number'],train_features_score['accuracy'])\n",
    "plt.legend()\n",
    "plt.plot( train_features_score['feature_number'],train_features_score['precision'])\n",
    "plt.legend()\n",
    "plt.plot( train_features_score['feature_number'],train_features_score['recall'])\n",
    "plt.legend()\n",
    "plt.plot( train_features_score['feature_number'],train_features_score['f1_score'])\n",
    "plt.legend()\n",
    "plt.xlabel('feature_number')\n",
    "plt.show()"
   ]
  },
  {
   "cell_type": "markdown",
   "metadata": {},
   "source": [
    "According to the plot, we can also observe that the performance greatly improve as feature numbers grow until 15. After that, the performance does not change a lot. Proper reduction of features can reduce the dimentions, which can not only reduce computation time and slightly improve performance, but also can be generalized to other datasets and models with better performance. When choosing the optimal feature numbers, we intepret the selection is a tradeoff among performance, computation complexity and ability of generalization. Thus, according to all analysis above, we think the optimal features number is between 15 and 20."
   ]
  },
  {
   "cell_type": "markdown",
   "metadata": {},
   "source": [
    "To verify the performance of our chosen optimal feature numbers, we do the same training on training sets and verify the performance on the testing sets. We create a pandas dataframe test_features_score for this with 4 corresponding metrics values in initialization. For each potential feature number in the range, we select the first subset of features in select_feature as temporary selected features for training (temp_train_features) and use the logistic regression classifier to train the chosen features before predicting the probability in testing set. We can get the 4 metircs for temporary selected features and fill the values in the corresponding row in dataframe test_features_score."
   ]
  },
  {
   "cell_type": "markdown",
   "metadata": {},
   "source": [
    "# Verify the chosen k subset on testing set."
   ]
  },
  {
   "cell_type": "code",
   "execution_count": 42,
   "metadata": {},
   "outputs": [
    {
     "data": {
      "text/html": [
       "<div>\n",
       "<style scoped>\n",
       "    .dataframe tbody tr th:only-of-type {\n",
       "        vertical-align: middle;\n",
       "    }\n",
       "\n",
       "    .dataframe tbody tr th {\n",
       "        vertical-align: top;\n",
       "    }\n",
       "\n",
       "    .dataframe thead th {\n",
       "        text-align: right;\n",
       "    }\n",
       "</style>\n",
       "<table border=\"1\" class=\"dataframe\">\n",
       "  <thead>\n",
       "    <tr style=\"text-align: right;\">\n",
       "      <th></th>\n",
       "      <th>feature_number</th>\n",
       "      <th>accuracy</th>\n",
       "      <th>precision</th>\n",
       "      <th>recall</th>\n",
       "      <th>f1_score</th>\n",
       "    </tr>\n",
       "  </thead>\n",
       "  <tbody>\n",
       "    <tr>\n",
       "      <th>0</th>\n",
       "      <td>1</td>\n",
       "      <td>0.650308</td>\n",
       "      <td>0.669396</td>\n",
       "      <td>0.478166</td>\n",
       "      <td>0.557848</td>\n",
       "    </tr>\n",
       "    <tr>\n",
       "      <th>1</th>\n",
       "      <td>5</td>\n",
       "      <td>0.764905</td>\n",
       "      <td>0.789744</td>\n",
       "      <td>0.668344</td>\n",
       "      <td>0.723991</td>\n",
       "    </tr>\n",
       "    <tr>\n",
       "      <th>2</th>\n",
       "      <td>10</td>\n",
       "      <td>0.844672</td>\n",
       "      <td>0.838329</td>\n",
       "      <td>0.821793</td>\n",
       "      <td>0.829979</td>\n",
       "    </tr>\n",
       "    <tr>\n",
       "      <th>3</th>\n",
       "      <td>15</td>\n",
       "      <td>0.852391</td>\n",
       "      <td>0.833045</td>\n",
       "      <td>0.850497</td>\n",
       "      <td>0.841680</td>\n",
       "    </tr>\n",
       "    <tr>\n",
       "      <th>4</th>\n",
       "      <td>20</td>\n",
       "      <td>0.852454</td>\n",
       "      <td>0.833244</td>\n",
       "      <td>0.850360</td>\n",
       "      <td>0.841715</td>\n",
       "    </tr>\n",
       "    <tr>\n",
       "      <th>5</th>\n",
       "      <td>25</td>\n",
       "      <td>0.852328</td>\n",
       "      <td>0.833111</td>\n",
       "      <td>0.850224</td>\n",
       "      <td>0.841581</td>\n",
       "    </tr>\n",
       "    <tr>\n",
       "      <th>6</th>\n",
       "      <td>30</td>\n",
       "      <td>0.851701</td>\n",
       "      <td>0.831385</td>\n",
       "      <td>0.851177</td>\n",
       "      <td>0.841164</td>\n",
       "    </tr>\n",
       "    <tr>\n",
       "      <th>7</th>\n",
       "      <td>32</td>\n",
       "      <td>0.851387</td>\n",
       "      <td>0.831184</td>\n",
       "      <td>0.850633</td>\n",
       "      <td>0.840796</td>\n",
       "    </tr>\n",
       "  </tbody>\n",
       "</table>\n",
       "</div>"
      ],
      "text/plain": [
       "   feature_number  accuracy  precision    recall  f1_score\n",
       "0               1  0.650308   0.669396  0.478166  0.557848\n",
       "1               5  0.764905   0.789744  0.668344  0.723991\n",
       "2              10  0.844672   0.838329  0.821793  0.829979\n",
       "3              15  0.852391   0.833045  0.850497  0.841680\n",
       "4              20  0.852454   0.833244  0.850360  0.841715\n",
       "5              25  0.852328   0.833111  0.850224  0.841581\n",
       "6              30  0.851701   0.831385  0.851177  0.841164\n",
       "7              32  0.851387   0.831184  0.850633  0.840796"
      ]
     },
     "execution_count": 42,
     "metadata": {},
     "output_type": "execute_result"
    }
   ],
   "source": [
    "test_features_score = pd.DataFrame({'feature_number':[1,5,10,15,20,25,30,32] , 'accuracy':0.0 , 'precision':0.0 , 'recall':0.0 , 'f1_score':0.0})\n",
    "k=0\n",
    "for i in [1,5,10,15,20,25,30,32]:\n",
    "    temp_train_features = select_feature[:i+1]\n",
    "    logistic = LogisticRegression(solver='lbfgs')\n",
    "    logistic.fit(train_features[temp_train_features], train_labels)\n",
    "    temp_test_pred_prob = logistic.predict_proba(test_features[temp_train_features])\n",
    "    test_pred=test_labels.copy()\n",
    "    for j in range(len(test_pred)):\n",
    "        if temp_test_pred_prob[j][0]>0.5: test_pred.values[j]=-1\n",
    "        else: test_pred.values[j]=1\n",
    "    test_TP=0\n",
    "    test_TN=0\n",
    "    test_FP=0\n",
    "    test_FN=0\n",
    "    for j in range(len(test_labels)):\n",
    "        if test_labels.values[j]==1 and test_pred.values[j]==1 : test_TP=test_TP+1\n",
    "        if test_labels.values[j]==-1 and test_pred.values[j]==-1 : test_TN=test_TN+1\n",
    "        if test_labels.values[j]==1 and test_pred.values[j]==-1 : test_FN=test_FN+1\n",
    "        if test_labels.values[j]==-1 and test_pred.values[j]==1 : test_FP=test_FP+1\n",
    "    temp_accuracy=(test_TP + test_TN)/(test_TP+test_TN+test_FP+test_FN)\n",
    "    temp_precision=(test_TP)/(test_TP + test_FP)\n",
    "    temp_recall=(test_TP)/(test_TP + test_FN)\n",
    "    temp_f1_score=2* temp_precision* temp_recall/( temp_recall+ temp_precision)\n",
    "        \n",
    "    #temp_score= np.array(get_score(pred_prob, test_labels, 0.5) )\n",
    "    \n",
    "    test_features_score['accuracy'][k] = temp_accuracy\n",
    "    test_features_score['precision'][k] = temp_precision\n",
    "    test_features_score['recall'][k] = temp_recall\n",
    "    test_features_score['f1_score'][k] = temp_f1_score\n",
    "    k=k+1\n",
    "test_features_score"
   ]
  },
  {
   "cell_type": "markdown",
   "metadata": {},
   "source": [
    "We can also get the plot of metric below."
   ]
  },
  {
   "cell_type": "code",
   "execution_count": 43,
   "metadata": {},
   "outputs": [
    {
     "data": {
      "image/png": "[encoded data removed]",
      "text/plain": [
       "<Figure size 432x288 with 1 Axes>"
      ]
     },
     "metadata": {},
     "output_type": "display_data"
    }
   ],
   "source": [
    "plt.plot( test_features_score['feature_number'],test_features_score['accuracy'])\n",
    "plt.legend()\n",
    "plt.plot( test_features_score['feature_number'],test_features_score['precision'])\n",
    "plt.legend()\n",
    "plt.plot( test_features_score['feature_number'],test_features_score['recall'])\n",
    "plt.legend()\n",
    "plt.plot( test_features_score['feature_number'],test_features_score['f1_score'])\n",
    "plt.legend()\n",
    "plt.xlabel('feature_number')\n",
    "plt.show()"
   ]
  },
  {
   "cell_type": "markdown",
   "metadata": {},
   "source": [
    "According to the dataframe and plot, we can also observe that the performance greatly improve as feature numbers grow until 15. After that, the performance does not change a lot. Therefore, the code and outputs implemented on testing sets verify our assumption above, which is to say, the optimal features number is between 15 and 20.Proper reduction of features can reduce the dimentions, which can not only reduce computation time and slightly improve performance, but also can be generalized to other datasets and models with better performance. When choosing the optimal feature numbers, we intepret the selection is a tradeoff among performance, computation complexity and ability of generalization."
   ]
  },
  {
   "cell_type": "code",
   "execution_count": null,
   "metadata": {},
   "outputs": [],
   "source": []
  },
  {
   "cell_type": "markdown",
   "metadata": {},
   "source": [
    "To conclude our method, we define the get_score function to get the metrics of model to make the code more readable. The input includes the predicted probablity of a model after fitting the training features and labels, true testing labels and tuned threshold (in this task we just set it as 0.5).Secondly, for later manually created cross validation, we prepare it for a function of data split index, build_k_indices. Among the inputs, y is the data we will split in later cross validation, the k_folder is the number we want to divide our dataset with (in the task k_folder is just 5) and seed is random number. We use np.random.seed to randomize the index in input dataset and use k_indices to split the randomized data into k_folder divisions.After getting the data split index in build_k_indices. We define score_cv_lr_5 function to get the metric of selected features training compared with true labels with the method of training logistic regression classifier with 5-cross-validation. The function creates 5 temporary training sets and testing sets in a cycle according to defination of cross validation. For each temporary training sets, the function uses the logistic regression classifier to train with chosen features and verify the model in temporary testing sets by creating probabilities for temporary testing sets. The output of score_cv_lr_5 is given by the metrics calculated from get_score function, and it outputs the mean accuracy in 5-cross-validation as the score.Upon finishing defining the functions above, we use greedy backward selection to iteratively remove features one by one. Our code creates a dataframe features_select with each potential feature of 32 in each row and its corresponding accuracy, which is initialized as 0.0. A list remove_feature is also defined and initialized empty. Then our code use the remove_feature to restore the removed features in each iteration. From the iteration 1 to 32, we choose each of the features remained in the dataframe, and combine the temporary single feature with the removed feature in the remove_feature to form a combination of temp_train_feature. After fitting them with training labels by logistic regression classifier, we can get the accuracy (chosen as main metric) of each remained single feature combined with the features already moved in remove_feature. Our code sort the dataframe by accuracy value on ascending order. Then we can remove the one feature with the smallest accuracy value, which is to say, that feature contribute least to the prediction combined with features already removed. And the dataframe updates itself by deleting the first row (corresponding to the feature decided to be removed in this iteration). That feature is also added to remove_feature to the next iteration. The iteration is not over until the dataframe features_select has the last one feature.The code approach complies to defination of greedy backward selection to remove features one by one. \n",
    "\n",
    "Then we evaluate the subset of k features selection. The selection features array is in the inverse direction of removed feature array remove_feature. So we define a pandas dataframe train_features_score for this with 4 corresponding metrics values in initialization. For each potential feature number in the range, we select the first subset of features in select_feature as temporary selected features for training and use the logistic regression classifier to train the chosen features in training features with 5-cross-validation. We can get the 4 metircs for temporary selected features in 5-cross-validation and fill the values in the corresponding row in dataframe train_features_score.According to created dataframe, we get the metrics corresponding to different feauture numbers in the task range. We can observe from the digits that feature number of 20 leads to an optimal value of accuracy and f1 score and obviously better than those of training all 32 features without selection. Also feature number of 15 has a very slight decrease in accuracy and have 5 less features, and feature of 1,5 or 10 lead to a much weaker performance. According to the plot, we can also observe that the performance greatly improve as feature numbers grow until 15. After that, the performance does not change a lot. Proper reduction of features can reduce the dimentions, which can not only reduce computation time and slightly improve performance, but also can be generalized to other datasets and models with better performance. When choosing the optimal feature numbers, we intepret the selection is a tradeoff among performance, computation complexity and ability of generalization. \n",
    "\n",
    "To verify the features selection, we do the same training on training sets and verify the performance on the testing sets. We create a pandas dataframe test_features_score for this with 4 corresponding metrics values in initialization. For each potential feature number in the range, we select the first subset of features in select_feature as temporary selected features for training and use the logistic regression classifier to train the chosen features before predicting the probability in testing set. We can get the 4 metircs for temporary selected features and fill the values in the corresponding row in dataframe test_features_score.According to the dataframe and plot, we can also observe that the performance greatly improve as feature numbers grow until 15. After that, the performance does not change a lot, which verifies our previous assumption.\n",
    "Thus, a number between 15 and 20 may be the optimal number to the problem."
   ]
  },
  {
   "cell_type": "code",
   "execution_count": null,
   "metadata": {},
   "outputs": [],
   "source": []
  },
  {
   "cell_type": "markdown",
   "metadata": {},
   "source": [
    "# D) "
   ]
  },
  {
   "cell_type": "markdown",
   "metadata": {},
   "source": [
    "Firstly, we set the range of 2 hyperparameters: n_estimators and max_depth.\n",
    "Since we do not have much experience in parameter tuning in random forest classifier, we just get the range that is frequently used in papers related to random forest classifers. The combination of 2 parameter ranged chosen has already taken quite long compuation time.\n",
    "In order to reduce compuation time, we do not choose a wide range but only a frequently used range. Probably the results may be better if we choose a wider range, but the approach is the same at all."
   ]
  },
  {
   "cell_type": "code",
   "execution_count": 60,
   "metadata": {},
   "outputs": [],
   "source": [
    "n_estimators_range=range(5,100,5)\n",
    "max_depth_range= range(1,20)"
   ]
  },
  {
   "cell_type": "markdown",
   "metadata": {},
   "source": [
    "We have a dataframe rfc_score which is got from pd.merge and it illustratess each potential combination of ranges of n_estimators and max_depth with corresponding accuracy value that is initialized as 0.0."
   ]
  },
  {
   "cell_type": "code",
   "execution_count": 61,
   "metadata": {},
   "outputs": [],
   "source": [
    "ne_score=pd.DataFrame({'n_estimators':np.array(n_estimators_range),'accuracy':0.0})\n",
    "mp_score=pd.DataFrame({'max_depth':np.array(max_depth_range),'accuracy':0.0})\n",
    "rfc_score= pd.merge(ne_score, mp_score)\n",
    "rfc_score= rfc_score[['n_estimators','max_depth','accuracy']]"
   ]
  },
  {
   "cell_type": "markdown",
   "metadata": {},
   "source": [
    "Our code use the same 5-cross-validation in task 2C to realize the data split and randomization of training sets. Also for each potential combination of 2 parameters, we use random forest classifier with cross validation to get the mean accuracy of the chosen combination, and fill in the accuracy of the dataframe rfc_score in corresponding row. The approach complies to the grid search. And after running all combinations, the output of rfc_score is as follows."
   ]
  },
  {
   "cell_type": "code",
   "execution_count": 65,
   "metadata": {},
   "outputs": [
    {
     "data": {
      "text/html": [
       "<div>\n",
       "<style scoped>\n",
       "    .dataframe tbody tr th:only-of-type {\n",
       "        vertical-align: middle;\n",
       "    }\n",
       "\n",
       "    .dataframe tbody tr th {\n",
       "        vertical-align: top;\n",
       "    }\n",
       "\n",
       "    .dataframe thead th {\n",
       "        text-align: right;\n",
       "    }\n",
       "</style>\n",
       "<table border=\"1\" class=\"dataframe\">\n",
       "  <thead>\n",
       "    <tr style=\"text-align: right;\">\n",
       "      <th></th>\n",
       "      <th>n_estimators</th>\n",
       "      <th>max_depth</th>\n",
       "      <th>accuracy</th>\n",
       "    </tr>\n",
       "  </thead>\n",
       "  <tbody>\n",
       "    <tr>\n",
       "      <th>0</th>\n",
       "      <td>5</td>\n",
       "      <td>1</td>\n",
       "      <td>0.627787</td>\n",
       "    </tr>\n",
       "    <tr>\n",
       "      <th>1</th>\n",
       "      <td>5</td>\n",
       "      <td>2</td>\n",
       "      <td>0.754719</td>\n",
       "    </tr>\n",
       "    <tr>\n",
       "      <th>2</th>\n",
       "      <td>5</td>\n",
       "      <td>3</td>\n",
       "      <td>0.805303</td>\n",
       "    </tr>\n",
       "    <tr>\n",
       "      <th>3</th>\n",
       "      <td>5</td>\n",
       "      <td>4</td>\n",
       "      <td>0.809445</td>\n",
       "    </tr>\n",
       "    <tr>\n",
       "      <th>4</th>\n",
       "      <td>5</td>\n",
       "      <td>5</td>\n",
       "      <td>0.821935</td>\n",
       "    </tr>\n",
       "    <tr>\n",
       "      <th>5</th>\n",
       "      <td>5</td>\n",
       "      <td>6</td>\n",
       "      <td>0.824900</td>\n",
       "    </tr>\n",
       "    <tr>\n",
       "      <th>6</th>\n",
       "      <td>5</td>\n",
       "      <td>7</td>\n",
       "      <td>0.832274</td>\n",
       "    </tr>\n",
       "    <tr>\n",
       "      <th>7</th>\n",
       "      <td>5</td>\n",
       "      <td>8</td>\n",
       "      <td>0.835161</td>\n",
       "    </tr>\n",
       "    <tr>\n",
       "      <th>8</th>\n",
       "      <td>5</td>\n",
       "      <td>9</td>\n",
       "      <td>0.838597</td>\n",
       "    </tr>\n",
       "    <tr>\n",
       "      <th>9</th>\n",
       "      <td>5</td>\n",
       "      <td>10</td>\n",
       "      <td>0.840731</td>\n",
       "    </tr>\n",
       "    <tr>\n",
       "      <th>10</th>\n",
       "      <td>5</td>\n",
       "      <td>11</td>\n",
       "      <td>0.840794</td>\n",
       "    </tr>\n",
       "    <tr>\n",
       "      <th>11</th>\n",
       "      <td>5</td>\n",
       "      <td>12</td>\n",
       "      <td>0.844528</td>\n",
       "    </tr>\n",
       "    <tr>\n",
       "      <th>12</th>\n",
       "      <td>5</td>\n",
       "      <td>13</td>\n",
       "      <td>0.843995</td>\n",
       "    </tr>\n",
       "    <tr>\n",
       "      <th>13</th>\n",
       "      <td>5</td>\n",
       "      <td>14</td>\n",
       "      <td>0.845156</td>\n",
       "    </tr>\n",
       "    <tr>\n",
       "      <th>14</th>\n",
       "      <td>5</td>\n",
       "      <td>15</td>\n",
       "      <td>0.846301</td>\n",
       "    </tr>\n",
       "    <tr>\n",
       "      <th>15</th>\n",
       "      <td>5</td>\n",
       "      <td>16</td>\n",
       "      <td>0.846034</td>\n",
       "    </tr>\n",
       "    <tr>\n",
       "      <th>16</th>\n",
       "      <td>5</td>\n",
       "      <td>17</td>\n",
       "      <td>0.844622</td>\n",
       "    </tr>\n",
       "    <tr>\n",
       "      <th>17</th>\n",
       "      <td>5</td>\n",
       "      <td>18</td>\n",
       "      <td>0.842818</td>\n",
       "    </tr>\n",
       "    <tr>\n",
       "      <th>18</th>\n",
       "      <td>5</td>\n",
       "      <td>19</td>\n",
       "      <td>0.839947</td>\n",
       "    </tr>\n",
       "    <tr>\n",
       "      <th>19</th>\n",
       "      <td>10</td>\n",
       "      <td>1</td>\n",
       "      <td>0.645328</td>\n",
       "    </tr>\n",
       "    <tr>\n",
       "      <th>20</th>\n",
       "      <td>10</td>\n",
       "      <td>2</td>\n",
       "      <td>0.715149</td>\n",
       "    </tr>\n",
       "    <tr>\n",
       "      <th>21</th>\n",
       "      <td>10</td>\n",
       "      <td>3</td>\n",
       "      <td>0.812050</td>\n",
       "    </tr>\n",
       "    <tr>\n",
       "      <th>22</th>\n",
       "      <td>10</td>\n",
       "      <td>4</td>\n",
       "      <td>0.813791</td>\n",
       "    </tr>\n",
       "    <tr>\n",
       "      <th>23</th>\n",
       "      <td>10</td>\n",
       "      <td>5</td>\n",
       "      <td>0.829717</td>\n",
       "    </tr>\n",
       "    <tr>\n",
       "      <th>24</th>\n",
       "      <td>10</td>\n",
       "      <td>6</td>\n",
       "      <td>0.829434</td>\n",
       "    </tr>\n",
       "    <tr>\n",
       "      <th>25</th>\n",
       "      <td>10</td>\n",
       "      <td>7</td>\n",
       "      <td>0.836197</td>\n",
       "    </tr>\n",
       "    <tr>\n",
       "      <th>26</th>\n",
       "      <td>10</td>\n",
       "      <td>8</td>\n",
       "      <td>0.838660</td>\n",
       "    </tr>\n",
       "    <tr>\n",
       "      <th>27</th>\n",
       "      <td>10</td>\n",
       "      <td>9</td>\n",
       "      <td>0.839758</td>\n",
       "    </tr>\n",
       "    <tr>\n",
       "      <th>28</th>\n",
       "      <td>10</td>\n",
       "      <td>10</td>\n",
       "      <td>0.841908</td>\n",
       "    </tr>\n",
       "    <tr>\n",
       "      <th>29</th>\n",
       "      <td>10</td>\n",
       "      <td>11</td>\n",
       "      <td>0.843383</td>\n",
       "    </tr>\n",
       "    <tr>\n",
       "      <th>...</th>\n",
       "      <td>...</td>\n",
       "      <td>...</td>\n",
       "      <td>...</td>\n",
       "    </tr>\n",
       "    <tr>\n",
       "      <th>331</th>\n",
       "      <td>90</td>\n",
       "      <td>9</td>\n",
       "      <td>0.845470</td>\n",
       "    </tr>\n",
       "    <tr>\n",
       "      <th>332</th>\n",
       "      <td>90</td>\n",
       "      <td>10</td>\n",
       "      <td>0.846646</td>\n",
       "    </tr>\n",
       "    <tr>\n",
       "      <th>333</th>\n",
       "      <td>90</td>\n",
       "      <td>11</td>\n",
       "      <td>0.848796</td>\n",
       "    </tr>\n",
       "    <tr>\n",
       "      <th>334</th>\n",
       "      <td>90</td>\n",
       "      <td>12</td>\n",
       "      <td>0.850004</td>\n",
       "    </tr>\n",
       "    <tr>\n",
       "      <th>335</th>\n",
       "      <td>90</td>\n",
       "      <td>13</td>\n",
       "      <td>0.850914</td>\n",
       "    </tr>\n",
       "    <tr>\n",
       "      <th>336</th>\n",
       "      <td>90</td>\n",
       "      <td>14</td>\n",
       "      <td>0.851087</td>\n",
       "    </tr>\n",
       "    <tr>\n",
       "      <th>337</th>\n",
       "      <td>90</td>\n",
       "      <td>15</td>\n",
       "      <td>0.852044</td>\n",
       "    </tr>\n",
       "    <tr>\n",
       "      <th>338</th>\n",
       "      <td>90</td>\n",
       "      <td>16</td>\n",
       "      <td>0.852452</td>\n",
       "    </tr>\n",
       "    <tr>\n",
       "      <th>339</th>\n",
       "      <td>90</td>\n",
       "      <td>17</td>\n",
       "      <td>0.852185</td>\n",
       "    </tr>\n",
       "    <tr>\n",
       "      <th>340</th>\n",
       "      <td>90</td>\n",
       "      <td>18</td>\n",
       "      <td>0.852028</td>\n",
       "    </tr>\n",
       "    <tr>\n",
       "      <th>341</th>\n",
       "      <td>90</td>\n",
       "      <td>19</td>\n",
       "      <td>0.851039</td>\n",
       "    </tr>\n",
       "    <tr>\n",
       "      <th>342</th>\n",
       "      <td>95</td>\n",
       "      <td>1</td>\n",
       "      <td>0.588280</td>\n",
       "    </tr>\n",
       "    <tr>\n",
       "      <th>343</th>\n",
       "      <td>95</td>\n",
       "      <td>2</td>\n",
       "      <td>0.800643</td>\n",
       "    </tr>\n",
       "    <tr>\n",
       "      <th>344</th>\n",
       "      <td>95</td>\n",
       "      <td>3</td>\n",
       "      <td>0.822609</td>\n",
       "    </tr>\n",
       "    <tr>\n",
       "      <th>345</th>\n",
       "      <td>95</td>\n",
       "      <td>4</td>\n",
       "      <td>0.827536</td>\n",
       "    </tr>\n",
       "    <tr>\n",
       "      <th>346</th>\n",
       "      <td>95</td>\n",
       "      <td>5</td>\n",
       "      <td>0.834000</td>\n",
       "    </tr>\n",
       "    <tr>\n",
       "      <th>347</th>\n",
       "      <td>95</td>\n",
       "      <td>6</td>\n",
       "      <td>0.837279</td>\n",
       "    </tr>\n",
       "    <tr>\n",
       "      <th>348</th>\n",
       "      <td>95</td>\n",
       "      <td>7</td>\n",
       "      <td>0.839539</td>\n",
       "    </tr>\n",
       "    <tr>\n",
       "      <th>349</th>\n",
       "      <td>95</td>\n",
       "      <td>8</td>\n",
       "      <td>0.842473</td>\n",
       "    </tr>\n",
       "    <tr>\n",
       "      <th>350</th>\n",
       "      <td>95</td>\n",
       "      <td>9</td>\n",
       "      <td>0.845140</td>\n",
       "    </tr>\n",
       "    <tr>\n",
       "      <th>351</th>\n",
       "      <td>95</td>\n",
       "      <td>10</td>\n",
       "      <td>0.847195</td>\n",
       "    </tr>\n",
       "    <tr>\n",
       "      <th>352</th>\n",
       "      <td>95</td>\n",
       "      <td>11</td>\n",
       "      <td>0.848200</td>\n",
       "    </tr>\n",
       "    <tr>\n",
       "      <th>353</th>\n",
       "      <td>95</td>\n",
       "      <td>12</td>\n",
       "      <td>0.849188</td>\n",
       "    </tr>\n",
       "    <tr>\n",
       "      <th>354</th>\n",
       "      <td>95</td>\n",
       "      <td>13</td>\n",
       "      <td>0.850835</td>\n",
       "    </tr>\n",
       "    <tr>\n",
       "      <th>355</th>\n",
       "      <td>95</td>\n",
       "      <td>14</td>\n",
       "      <td>0.850820</td>\n",
       "    </tr>\n",
       "    <tr>\n",
       "      <th>356</th>\n",
       "      <td>95</td>\n",
       "      <td>15</td>\n",
       "      <td>0.852153</td>\n",
       "    </tr>\n",
       "    <tr>\n",
       "      <th>357</th>\n",
       "      <td>95</td>\n",
       "      <td>16</td>\n",
       "      <td>0.852373</td>\n",
       "    </tr>\n",
       "    <tr>\n",
       "      <th>358</th>\n",
       "      <td>95</td>\n",
       "      <td>17</td>\n",
       "      <td>0.852530</td>\n",
       "    </tr>\n",
       "    <tr>\n",
       "      <th>359</th>\n",
       "      <td>95</td>\n",
       "      <td>18</td>\n",
       "      <td>0.852138</td>\n",
       "    </tr>\n",
       "    <tr>\n",
       "      <th>360</th>\n",
       "      <td>95</td>\n",
       "      <td>19</td>\n",
       "      <td>0.850992</td>\n",
       "    </tr>\n",
       "  </tbody>\n",
       "</table>\n",
       "<p>361 rows × 3 columns</p>\n",
       "</div>"
      ],
      "text/plain": [
       "     n_estimators  max_depth  accuracy\n",
       "0               5          1  0.627787\n",
       "1               5          2  0.754719\n",
       "2               5          3  0.805303\n",
       "3               5          4  0.809445\n",
       "4               5          5  0.821935\n",
       "5               5          6  0.824900\n",
       "6               5          7  0.832274\n",
       "7               5          8  0.835161\n",
       "8               5          9  0.838597\n",
       "9               5         10  0.840731\n",
       "10              5         11  0.840794\n",
       "11              5         12  0.844528\n",
       "12              5         13  0.843995\n",
       "13              5         14  0.845156\n",
       "14              5         15  0.846301\n",
       "15              5         16  0.846034\n",
       "16              5         17  0.844622\n",
       "17              5         18  0.842818\n",
       "18              5         19  0.839947\n",
       "19             10          1  0.645328\n",
       "20             10          2  0.715149\n",
       "21             10          3  0.812050\n",
       "22             10          4  0.813791\n",
       "23             10          5  0.829717\n",
       "24             10          6  0.829434\n",
       "25             10          7  0.836197\n",
       "26             10          8  0.838660\n",
       "27             10          9  0.839758\n",
       "28             10         10  0.841908\n",
       "29             10         11  0.843383\n",
       "..            ...        ...       ...\n",
       "331            90          9  0.845470\n",
       "332            90         10  0.846646\n",
       "333            90         11  0.848796\n",
       "334            90         12  0.850004\n",
       "335            90         13  0.850914\n",
       "336            90         14  0.851087\n",
       "337            90         15  0.852044\n",
       "338            90         16  0.852452\n",
       "339            90         17  0.852185\n",
       "340            90         18  0.852028\n",
       "341            90         19  0.851039\n",
       "342            95          1  0.588280\n",
       "343            95          2  0.800643\n",
       "344            95          3  0.822609\n",
       "345            95          4  0.827536\n",
       "346            95          5  0.834000\n",
       "347            95          6  0.837279\n",
       "348            95          7  0.839539\n",
       "349            95          8  0.842473\n",
       "350            95          9  0.845140\n",
       "351            95         10  0.847195\n",
       "352            95         11  0.848200\n",
       "353            95         12  0.849188\n",
       "354            95         13  0.850835\n",
       "355            95         14  0.850820\n",
       "356            95         15  0.852153\n",
       "357            95         16  0.852373\n",
       "358            95         17  0.852530\n",
       "359            95         18  0.852138\n",
       "360            95         19  0.850992\n",
       "\n",
       "[361 rows x 3 columns]"
      ]
     },
     "execution_count": 65,
     "metadata": {},
     "output_type": "execute_result"
    }
   ],
   "source": [
    "from sklearn.ensemble import RandomForestClassifier\n",
    "k_indices=build_k_indices(train_labels,5,10)\n",
    "for i in range(len(rfc_score)):\n",
    "    score_sum=np.array([0,0,0,0])\n",
    "    temp_ne= rfc_score['n_estimators'].values[i]\n",
    "    temp_mp= rfc_score['max_depth'].values[i]\n",
    "    for k in range(5):\n",
    "        temp_test_indice = k_indices[k]\n",
    "        temp_train_indice = k_indices[~(np.arange(k_indices.shape[0]) == k)]\n",
    "        temp_train_indice = temp_train_indice.reshape(-1)\n",
    "        temp_train_features= train_features.values[temp_train_indice]\n",
    "        temp_train_labels=train_labels.values[temp_train_indice]\n",
    "        temp_test_features=train_features.values[temp_test_indice] \n",
    "        temp_test_labels=train_labels.values[temp_test_indice]\n",
    "        \n",
    "        rfc = RandomForestClassifier(n_estimators= temp_ne, max_depth= temp_mp)\n",
    "        rfc.fit(temp_train_features, temp_train_labels)\n",
    "        pred_prob = rfc.predict_proba(temp_test_features)\n",
    "        temp_score=np.array(get_score(pred_prob, temp_test_labels, 0.5) )\n",
    "        score_sum=score_sum+temp_score\n",
    "    temp_accuracy= score_sum[0]/5\n",
    "    rfc_score['accuracy'].values[i]= temp_accuracy\n",
    "rfc_score\n",
    "        "
   ]
  },
  {
   "cell_type": "markdown",
   "metadata": {},
   "source": [
    "We get the optimal combination of n_estimators and max_depth in the range for the model that has the maximum accuracy value."
   ]
  },
  {
   "cell_type": "code",
   "execution_count": 71,
   "metadata": {},
   "outputs": [
    {
     "name": "stdout",
     "output_type": "stream",
     "text": [
      "the best n_estimators for the model: 75\n",
      "the best max_depth for the model: 16\n"
     ]
    }
   ],
   "source": [
    "rfc_score_max=max(rfc_score['accuracy'])\n",
    "best_ne= rfc_score[rfc_score['accuracy']==rfc_score_max]['n_estimators'].values[0]\n",
    "best_md= rfc_score[rfc_score['accuracy']==rfc_score_max]['max_depth'].values[0]\n",
    "print('the best n_estimators for the model: '+str(best_ne))\n",
    "print('the best max_depth for the model: '+str(best_md))"
   ]
  },
  {
   "cell_type": "markdown",
   "metadata": {},
   "source": [
    "Again, the combination of 2 parameter ranged chosen has already taken quite long compuation time, so we do not choose a wide range but only a frequently used range in other papers. Probably the results may be better if we choose a wider range, but the approach is totally the same in our code."
   ]
  },
  {
   "cell_type": "markdown",
   "metadata": {},
   "source": [
    "We use the optimal combination as the parameter of random forest classifier and use it to fit the traing sets. Then we can use the model to predict the probability before getting the predicted testing labels. Again, we get the confusion matrix by comparing predicted labels with true labels."
   ]
  },
  {
   "cell_type": "code",
   "execution_count": 88,
   "metadata": {},
   "outputs": [
    {
     "data": {
      "text/html": [
       "<div>\n",
       "<style scoped>\n",
       "    .dataframe tbody tr th:only-of-type {\n",
       "        vertical-align: middle;\n",
       "    }\n",
       "\n",
       "    .dataframe tbody tr th {\n",
       "        vertical-align: top;\n",
       "    }\n",
       "\n",
       "    .dataframe thead th {\n",
       "        text-align: right;\n",
       "    }\n",
       "</style>\n",
       "<table border=\"1\" class=\"dataframe\">\n",
       "  <thead>\n",
       "    <tr style=\"text-align: right;\">\n",
       "      <th>predicted labels</th>\n",
       "      <th>-1</th>\n",
       "      <th>1</th>\n",
       "    </tr>\n",
       "    <tr>\n",
       "      <th>true labels</th>\n",
       "      <th></th>\n",
       "      <th></th>\n",
       "    </tr>\n",
       "  </thead>\n",
       "  <tbody>\n",
       "    <tr>\n",
       "      <th>-1</th>\n",
       "      <td>7096</td>\n",
       "      <td>1487</td>\n",
       "    </tr>\n",
       "    <tr>\n",
       "      <th>1</th>\n",
       "      <td>674</td>\n",
       "      <td>6677</td>\n",
       "    </tr>\n",
       "  </tbody>\n",
       "</table>\n",
       "</div>"
      ],
      "text/plain": [
       "predicted labels    -1     1\n",
       "true labels                 \n",
       "-1                7096  1487\n",
       " 1                 674  6677"
      ]
     },
     "execution_count": 88,
     "metadata": {},
     "output_type": "execute_result"
    }
   ],
   "source": [
    "rfc = RandomForestClassifier(n_estimators= best_ne, max_depth= best_md)\n",
    "rfc.fit(train_features, train_labels)\n",
    "test_pred_prob = rfc.predict_proba(test_features)\n",
    "a=pd.Series(test_labels['outcome_type'].copy(),name='true labels')\n",
    "test_pred=test_labels.copy()\n",
    "for i in range(len(test_pred)):\n",
    "    if test_pred_prob[i][0]>0.5: test_pred.values[i]=-1\n",
    "    else: test_pred.values[i]=1\n",
    "b=pd.Series(test_pred['outcome_type'].copy(),name='predicted labels')\n",
    "test_confusion=pd.crosstab(a,b)\n",
    "test_confusion"
   ]
  },
  {
   "cell_type": "markdown",
   "metadata": {},
   "source": [
    "We manually calcuate the 4 metrics according to the confusion matrix above and get the answer."
   ]
  },
  {
   "cell_type": "code",
   "execution_count": 89,
   "metadata": {},
   "outputs": [
    {
     "name": "stdout",
     "output_type": "stream",
     "text": [
      "accuray : 0.8643780594954186\n",
      "precision : 0.8178588926996571\n",
      "recall : 0.9083117943136988\n",
      "f1 score : 0.8607154366741863\n"
     ]
    }
   ],
   "source": [
    "rfc_accuracy= (6677+7096)/(len(test_labels))\n",
    "rfc_precision=6677/(6677+1487)\n",
    "rfc_recall=6677/(6677+674)\n",
    "rfc_f1_score=2* rfc_precision * rfc_recall/( rfc_precision+ rfc_recall)\n",
    "print ('accuray : '+str(rfc_accuracy))\n",
    "print ('precision : '+str(rfc_precision))\n",
    "print ('recall : '+str(rfc_recall))\n",
    "print ('f1 score : '+str(rfc_f1_score))"
   ]
  },
  {
   "cell_type": "markdown",
   "metadata": {},
   "source": [
    "Compared to the result calculated from Logistic Regression with all 32 features in task 2B, we can observe that the metric of accuracy, recall and f1 score have an improve in Random Forest Classifier with fine-tune hyperparameters, while there is a slight decrese in precision. We intepret that the random forest classifier leads to more accurate TP, that is to say, the model is going to predict more datasets to positive with accurate fitting. Because there are more negative labels in training sets, a weaker model may tend to label more data to negative. \n",
    "Therefore, the Random Forest Classifier with fine-tuned parameters has a slightly better performance overall."
   ]
  },
  {
   "cell_type": "markdown",
   "metadata": {},
   "source": [
    "To conclude our approach, we set the range of 2 hyperparameters: n_estimators and max_depth and geta dataframe rfc_score which is got from pd.merge and it illustratess each potential combination of ranges of n_estimators and max_depth with corresponding accuracy value at first. Then our code use the same 5-cross-validation in task 2C to realize the data split and randomization of training sets. Also for each potential combination of 2 parameters, we use random forest classifier with cross validation to get the mean accuracy of the chosen combination, and fill in the accuracy of the dataframe rfc_score in corresponding row. The approach complies to the grid search. And after running all combinations, we getthe output of rfc_score. We get the optimal combination of n_estimators and max_depth in the range for the model that has the maximum accuracy value.After that our code uses the optimal combination as the parameter of random forest classifier and use it to fit the traing sets. Then we can use the model to predict the probability before getting the predicted testing labels. Again, we get the confusion matrix by comparing predicted labels with true labels.Finally the 4 metrics are calculated from the confusion matrix.\n",
    "\n",
    "In camparison with the result calculated from Logistic Regression with all 32 features in task 2B, we can observe that the metric of accuracy, recall and f1 score have an improve in Random Forest Classifier with fine-tune hyperparameters, while there is a slight decrese in precision. We intepret that the random forest classifier leads to more accurate TP, that is to say, the model is going to predict more datasets to positive with accurate fitting. Because there are more negative labels in training sets, a weaker model may tend to label more data to negative, so we intepret the Random Forest Classifier with fine-tuned parameters has a slightly better performance than the model in 2B."
   ]
  },
  {
   "cell_type": "code",
   "execution_count": null,
   "metadata": {},
   "outputs": [],
   "source": []
  }
 ],
 "metadata": {
  "kernelspec": {
   "display_name": "Python 3",
   "language": "python",
   "name": "python3"
  },
  "language_info": {
   "codemirror_mode": {
    "name": "ipython",
    "version": 3
   },
   "file_extension": ".py",
   "mimetype": "text/x-python",
   "name": "python",
   "nbconvert_exporter": "python",
   "pygments_lexer": "ipython3",
   "version": "3.5.6"
  },
  "varInspector": {
   "cols": {
    "lenName": 16,
    "lenType": 16,
    "lenVar": 40
   },
   "kernels_config": {
    "python": {
     "delete_cmd_postfix": "",
     "delete_cmd_prefix": "del ",
     "library": "var_list.py",
     "varRefreshCmd": "print(var_dic_list())"
    },
    "r": {
     "delete_cmd_postfix": ") ",
     "delete_cmd_prefix": "rm(",
     "library": "var_list.r",
     "varRefreshCmd": "cat(var_dic_list()) "
    }
   },
   "types_to_exclude": [
    "module",
    "function",
    "builtin_function_or_method",
    "instance",
    "_Feature"
   ],
   "window_display": false
  }
 },
 "nbformat": 4,
 "nbformat_minor": 2
}
